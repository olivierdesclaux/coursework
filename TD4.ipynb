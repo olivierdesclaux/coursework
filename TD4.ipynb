{
 "cells": [
  {
   "cell_type": "markdown",
   "metadata": {},
   "source": [
    "This lab is a quick intro to data analysis and clustering. We have collected data on tennis players from the ATP series, such as their 1st-serve speed, break-points won, etc. \n",
    "\n",
    "http://gerin.perso.math.cnrs.fr/Enseignements/TP_ACP.pdf\n",
    "\n"
   ]
  },
  {
   "cell_type": "markdown",
   "metadata": {},
   "source": [
    "# Question 1"
   ]
  },
  {
   "cell_type": "code",
   "execution_count": 3,
   "metadata": {},
   "outputs": [],
   "source": [
    "import csv\n",
    "import pandas as pd\n",
    "import numpy as np\n",
    "import seaborn as sns\n",
    "import matplotlib.pyplot as plt\n",
    "from copy import deepcopy"
   ]
  },
  {
   "cell_type": "code",
   "execution_count": 4,
   "metadata": {},
   "outputs": [],
   "source": [
    "def extractioncsv(fichiercsv):\n",
    "    liste = []\n",
    "    with open(fichiercsv, encoding= 'utf8') as fcsv:\n",
    "        lecteur = csv.reader(fcsv, delimiter=';')\n",
    "        for ligne in lecteur:\n",
    "            liste.append(ligne)\n",
    "    return liste\n",
    "\n",
    "TennisChiffres=extractioncsv(r'C:\\Users\\Olivier Desclaux\\Map572\\TennisChiffresTop100_2018.csv')"
   ]
  },
  {
   "cell_type": "code",
   "execution_count": 5,
   "metadata": {},
   "outputs": [],
   "source": [
    "def convert_to_float(tableau):\n",
    "    L = tableau\n",
    "    n = len(tableau[0])\n",
    "    for i in range (1, len(tableau)):\n",
    "        for j in range (1, n):\n",
    "            L[i][j] = float(tableau[i][j])\n",
    "            \n",
    "    return L"
   ]
  },
  {
   "cell_type": "code",
   "execution_count": 6,
   "metadata": {},
   "outputs": [],
   "source": [
    "data = convert_to_float(TennisChiffres)\n",
    "data = np.array(data)\n",
    "data[0][0] = 'Players'"
   ]
  },
  {
   "cell_type": "markdown",
   "metadata": {},
   "source": [
    "# Question 2"
   ]
  },
  {
   "cell_type": "code",
   "execution_count": 7,
   "metadata": {},
   "outputs": [],
   "source": [
    "data = pd.DataFrame(data[1:], columns = data[0])\n",
    "data.set_index('Players', inplace = True)\n",
    "data = data.astype(float)"
   ]
  },
  {
   "cell_type": "code",
   "execution_count": 8,
   "metadata": {},
   "outputs": [
    {
     "data": {
      "text/html": [
       "<div>\n",
       "<style scoped>\n",
       "    .dataframe tbody tr th:only-of-type {\n",
       "        vertical-align: middle;\n",
       "    }\n",
       "\n",
       "    .dataframe tbody tr th {\n",
       "        vertical-align: top;\n",
       "    }\n",
       "\n",
       "    .dataframe thead th {\n",
       "        text-align: right;\n",
       "    }\n",
       "</style>\n",
       "<table border=\"1\" class=\"dataframe\">\n",
       "  <thead>\n",
       "    <tr style=\"text-align: right;\">\n",
       "      <th></th>\n",
       "      <th>Moyenne 1 er service</th>\n",
       "      <th>Pourcent 1 er service</th>\n",
       "      <th>Balles break sauvees</th>\n",
       "      <th>Balles break gagnees</th>\n",
       "      <th>Pts gagnes 1 er service</th>\n",
       "      <th>Pts gagnes au retour</th>\n",
       "    </tr>\n",
       "    <tr>\n",
       "      <th>Players</th>\n",
       "      <th></th>\n",
       "      <th></th>\n",
       "      <th></th>\n",
       "      <th></th>\n",
       "      <th></th>\n",
       "      <th></th>\n",
       "    </tr>\n",
       "  </thead>\n",
       "  <tbody>\n",
       "    <tr>\n",
       "      <td>Bautista</td>\n",
       "      <td>179.0</td>\n",
       "      <td>81.0</td>\n",
       "      <td>84.0</td>\n",
       "      <td>26.0</td>\n",
       "      <td>78.0</td>\n",
       "      <td>63.0</td>\n",
       "    </tr>\n",
       "    <tr>\n",
       "      <td>Berdych</td>\n",
       "      <td>189.0</td>\n",
       "      <td>68.0</td>\n",
       "      <td>85.0</td>\n",
       "      <td>26.0</td>\n",
       "      <td>82.0</td>\n",
       "      <td>63.0</td>\n",
       "    </tr>\n",
       "    <tr>\n",
       "      <td>Cilic</td>\n",
       "      <td>191.0</td>\n",
       "      <td>70.0</td>\n",
       "      <td>82.0</td>\n",
       "      <td>25.0</td>\n",
       "      <td>86.0</td>\n",
       "      <td>60.0</td>\n",
       "    </tr>\n",
       "    <tr>\n",
       "      <td>Del Potro</td>\n",
       "      <td>196.0</td>\n",
       "      <td>78.0</td>\n",
       "      <td>88.0</td>\n",
       "      <td>26.0</td>\n",
       "      <td>90.0</td>\n",
       "      <td>58.0</td>\n",
       "    </tr>\n",
       "    <tr>\n",
       "      <td>Dimitrov</td>\n",
       "      <td>195.0</td>\n",
       "      <td>64.0</td>\n",
       "      <td>94.0</td>\n",
       "      <td>19.0</td>\n",
       "      <td>81.0</td>\n",
       "      <td>53.0</td>\n",
       "    </tr>\n",
       "    <tr>\n",
       "      <td>...</td>\n",
       "      <td>...</td>\n",
       "      <td>...</td>\n",
       "      <td>...</td>\n",
       "      <td>...</td>\n",
       "      <td>...</td>\n",
       "      <td>...</td>\n",
       "    </tr>\n",
       "    <tr>\n",
       "      <td></td>\n",
       "      <td>178.0</td>\n",
       "      <td>86.0</td>\n",
       "      <td>85.0</td>\n",
       "      <td>29.0</td>\n",
       "      <td>91.0</td>\n",
       "      <td>66.0</td>\n",
       "    </tr>\n",
       "    <tr>\n",
       "      <td></td>\n",
       "      <td>177.0</td>\n",
       "      <td>82.0</td>\n",
       "      <td>83.0</td>\n",
       "      <td>27.0</td>\n",
       "      <td>87.0</td>\n",
       "      <td>66.0</td>\n",
       "    </tr>\n",
       "    <tr>\n",
       "      <td></td>\n",
       "      <td>176.0</td>\n",
       "      <td>86.0</td>\n",
       "      <td>86.0</td>\n",
       "      <td>29.0</td>\n",
       "      <td>88.0</td>\n",
       "      <td>65.0</td>\n",
       "    </tr>\n",
       "    <tr>\n",
       "      <td></td>\n",
       "      <td>182.0</td>\n",
       "      <td>84.0</td>\n",
       "      <td>89.0</td>\n",
       "      <td>28.0</td>\n",
       "      <td>83.0</td>\n",
       "      <td>71.0</td>\n",
       "    </tr>\n",
       "    <tr>\n",
       "      <td></td>\n",
       "      <td>177.0</td>\n",
       "      <td>81.0</td>\n",
       "      <td>85.0</td>\n",
       "      <td>31.0</td>\n",
       "      <td>83.0</td>\n",
       "      <td>66.0</td>\n",
       "    </tr>\n",
       "  </tbody>\n",
       "</table>\n",
       "<p>99 rows × 6 columns</p>\n",
       "</div>"
      ],
      "text/plain": [
       "           Moyenne 1 er service  Pourcent 1 er service  Balles break sauvees  \\\n",
       "Players                                                                        \n",
       "Bautista                  179.0                   81.0                  84.0   \n",
       "Berdych                   189.0                   68.0                  85.0   \n",
       "Cilic                     191.0                   70.0                  82.0   \n",
       "Del Potro                 196.0                   78.0                  88.0   \n",
       "Dimitrov                  195.0                   64.0                  94.0   \n",
       "...                         ...                    ...                   ...   \n",
       "                          178.0                   86.0                  85.0   \n",
       "                          177.0                   82.0                  83.0   \n",
       "                          176.0                   86.0                  86.0   \n",
       "                          182.0                   84.0                  89.0   \n",
       "                          177.0                   81.0                  85.0   \n",
       "\n",
       "           Balles break gagnees  Pts gagnes 1 er service  Pts gagnes au retour  \n",
       "Players                                                                         \n",
       "Bautista                   26.0                     78.0                  63.0  \n",
       "Berdych                    26.0                     82.0                  63.0  \n",
       "Cilic                      25.0                     86.0                  60.0  \n",
       "Del Potro                  26.0                     90.0                  58.0  \n",
       "Dimitrov                   19.0                     81.0                  53.0  \n",
       "...                         ...                      ...                   ...  \n",
       "                           29.0                     91.0                  66.0  \n",
       "                           27.0                     87.0                  66.0  \n",
       "                           29.0                     88.0                  65.0  \n",
       "                           28.0                     83.0                  71.0  \n",
       "                           31.0                     83.0                  66.0  \n",
       "\n",
       "[99 rows x 6 columns]"
      ]
     },
     "execution_count": 8,
     "metadata": {},
     "output_type": "execute_result"
    }
   ],
   "source": [
    "data"
   ]
  },
  {
   "cell_type": "code",
   "execution_count": 9,
   "metadata": {},
   "outputs": [
    {
     "data": {
      "text/html": [
       "<div>\n",
       "<style scoped>\n",
       "    .dataframe tbody tr th:only-of-type {\n",
       "        vertical-align: middle;\n",
       "    }\n",
       "\n",
       "    .dataframe tbody tr th {\n",
       "        vertical-align: top;\n",
       "    }\n",
       "\n",
       "    .dataframe thead th {\n",
       "        text-align: right;\n",
       "    }\n",
       "</style>\n",
       "<table border=\"1\" class=\"dataframe\">\n",
       "  <thead>\n",
       "    <tr style=\"text-align: right;\">\n",
       "      <th></th>\n",
       "      <th>Moyenne 1 er service</th>\n",
       "      <th>Pourcent 1 er service</th>\n",
       "      <th>Balles break sauvees</th>\n",
       "      <th>Balles break gagnees</th>\n",
       "      <th>Pts gagnes 1 er service</th>\n",
       "      <th>Pts gagnes au retour</th>\n",
       "    </tr>\n",
       "  </thead>\n",
       "  <tbody>\n",
       "    <tr>\n",
       "      <td>count</td>\n",
       "      <td>99.000000</td>\n",
       "      <td>99.000000</td>\n",
       "      <td>99.000000</td>\n",
       "      <td>99.000000</td>\n",
       "      <td>99.000000</td>\n",
       "      <td>99.000000</td>\n",
       "    </tr>\n",
       "    <tr>\n",
       "      <td>mean</td>\n",
       "      <td>183.767677</td>\n",
       "      <td>78.808081</td>\n",
       "      <td>86.595960</td>\n",
       "      <td>26.050505</td>\n",
       "      <td>83.060606</td>\n",
       "      <td>61.070707</td>\n",
       "    </tr>\n",
       "    <tr>\n",
       "      <td>std</td>\n",
       "      <td>7.442060</td>\n",
       "      <td>8.839472</td>\n",
       "      <td>3.602491</td>\n",
       "      <td>3.687745</td>\n",
       "      <td>4.332643</td>\n",
       "      <td>6.350723</td>\n",
       "    </tr>\n",
       "    <tr>\n",
       "      <td>min</td>\n",
       "      <td>171.000000</td>\n",
       "      <td>60.000000</td>\n",
       "      <td>80.000000</td>\n",
       "      <td>17.000000</td>\n",
       "      <td>71.000000</td>\n",
       "      <td>41.000000</td>\n",
       "    </tr>\n",
       "    <tr>\n",
       "      <td>25%</td>\n",
       "      <td>177.000000</td>\n",
       "      <td>71.000000</td>\n",
       "      <td>84.000000</td>\n",
       "      <td>24.000000</td>\n",
       "      <td>81.000000</td>\n",
       "      <td>59.000000</td>\n",
       "    </tr>\n",
       "    <tr>\n",
       "      <td>50%</td>\n",
       "      <td>181.000000</td>\n",
       "      <td>81.000000</td>\n",
       "      <td>86.000000</td>\n",
       "      <td>26.000000</td>\n",
       "      <td>83.000000</td>\n",
       "      <td>62.000000</td>\n",
       "    </tr>\n",
       "    <tr>\n",
       "      <td>75%</td>\n",
       "      <td>191.000000</td>\n",
       "      <td>86.000000</td>\n",
       "      <td>88.000000</td>\n",
       "      <td>28.500000</td>\n",
       "      <td>85.500000</td>\n",
       "      <td>65.000000</td>\n",
       "    </tr>\n",
       "    <tr>\n",
       "      <td>max</td>\n",
       "      <td>197.000000</td>\n",
       "      <td>94.000000</td>\n",
       "      <td>95.000000</td>\n",
       "      <td>34.000000</td>\n",
       "      <td>96.000000</td>\n",
       "      <td>76.000000</td>\n",
       "    </tr>\n",
       "  </tbody>\n",
       "</table>\n",
       "</div>"
      ],
      "text/plain": [
       "       Moyenne 1 er service  Pourcent 1 er service  Balles break sauvees  \\\n",
       "count             99.000000              99.000000             99.000000   \n",
       "mean             183.767677              78.808081             86.595960   \n",
       "std                7.442060               8.839472              3.602491   \n",
       "min              171.000000              60.000000             80.000000   \n",
       "25%              177.000000              71.000000             84.000000   \n",
       "50%              181.000000              81.000000             86.000000   \n",
       "75%              191.000000              86.000000             88.000000   \n",
       "max              197.000000              94.000000             95.000000   \n",
       "\n",
       "       Balles break gagnees  Pts gagnes 1 er service  Pts gagnes au retour  \n",
       "count             99.000000                99.000000             99.000000  \n",
       "mean              26.050505                83.060606             61.070707  \n",
       "std                3.687745                 4.332643              6.350723  \n",
       "min               17.000000                71.000000             41.000000  \n",
       "25%               24.000000                81.000000             59.000000  \n",
       "50%               26.000000                83.000000             62.000000  \n",
       "75%               28.500000                85.500000             65.000000  \n",
       "max               34.000000                96.000000             76.000000  "
      ]
     },
     "execution_count": 9,
     "metadata": {},
     "output_type": "execute_result"
    }
   ],
   "source": [
    "data.describe()"
   ]
  },
  {
   "cell_type": "code",
   "execution_count": 10,
   "metadata": {},
   "outputs": [],
   "source": [
    "def create_correlation_matrix(df):\n",
    "    len_columns = df.shape[1]\n",
    "    len_rows = df.shape[0]\n",
    "    dataframe = df.copy()\n",
    "    \n",
    "    for column in df.columns:\n",
    "        column_mean = df.describe()[column]['mean']\n",
    "        column_std = df.describe()[column]['std']\n",
    "        for row in df.index:\n",
    "            dataframe[column][row] = (df[column][row] - column_mean) / column_std\n",
    "    \n",
    "    matrix = np.dot(dataframe.T, dataframe)\n",
    "    matrix = np.dot(1/len_rows, matrix)\n",
    "    correlation_df = pd.DataFrame(matrix, index = df.columns, columns = df.columns)\n",
    "    \n",
    "    return correlation_df"
   ]
  },
  {
   "cell_type": "code",
   "execution_count": 11,
   "metadata": {},
   "outputs": [],
   "source": [
    "correlation_matrix = create_correlation_matrix(data)"
   ]
  },
  {
   "cell_type": "code",
   "execution_count": 12,
   "metadata": {},
   "outputs": [
    {
     "data": {
      "text/html": [
       "<div>\n",
       "<style scoped>\n",
       "    .dataframe tbody tr th:only-of-type {\n",
       "        vertical-align: middle;\n",
       "    }\n",
       "\n",
       "    .dataframe tbody tr th {\n",
       "        vertical-align: top;\n",
       "    }\n",
       "\n",
       "    .dataframe thead th {\n",
       "        text-align: right;\n",
       "    }\n",
       "</style>\n",
       "<table border=\"1\" class=\"dataframe\">\n",
       "  <thead>\n",
       "    <tr style=\"text-align: right;\">\n",
       "      <th></th>\n",
       "      <th>Moyenne 1 er service</th>\n",
       "      <th>Pourcent 1 er service</th>\n",
       "      <th>Balles break sauvees</th>\n",
       "      <th>Balles break gagnees</th>\n",
       "      <th>Pts gagnes 1 er service</th>\n",
       "      <th>Pts gagnes au retour</th>\n",
       "    </tr>\n",
       "  </thead>\n",
       "  <tbody>\n",
       "    <tr>\n",
       "      <td>Moyenne 1 er service</td>\n",
       "      <td>0.989899</td>\n",
       "      <td>-0.769802</td>\n",
       "      <td>0.542429</td>\n",
       "      <td>-0.654339</td>\n",
       "      <td>0.376047</td>\n",
       "      <td>-0.526476</td>\n",
       "    </tr>\n",
       "    <tr>\n",
       "      <td>Pourcent 1 er service</td>\n",
       "      <td>-0.769802</td>\n",
       "      <td>0.989899</td>\n",
       "      <td>-0.441760</td>\n",
       "      <td>0.733447</td>\n",
       "      <td>-0.321994</td>\n",
       "      <td>0.643689</td>\n",
       "    </tr>\n",
       "    <tr>\n",
       "      <td>Balles break sauvees</td>\n",
       "      <td>0.542429</td>\n",
       "      <td>-0.441760</td>\n",
       "      <td>0.989899</td>\n",
       "      <td>-0.427289</td>\n",
       "      <td>0.345209</td>\n",
       "      <td>-0.571387</td>\n",
       "    </tr>\n",
       "    <tr>\n",
       "      <td>Balles break gagnees</td>\n",
       "      <td>-0.654339</td>\n",
       "      <td>0.733447</td>\n",
       "      <td>-0.427289</td>\n",
       "      <td>0.989899</td>\n",
       "      <td>-0.236000</td>\n",
       "      <td>0.678284</td>\n",
       "    </tr>\n",
       "    <tr>\n",
       "      <td>Pts gagnes 1 er service</td>\n",
       "      <td>0.376047</td>\n",
       "      <td>-0.321994</td>\n",
       "      <td>0.345209</td>\n",
       "      <td>-0.236000</td>\n",
       "      <td>0.989899</td>\n",
       "      <td>-0.325777</td>\n",
       "    </tr>\n",
       "    <tr>\n",
       "      <td>Pts gagnes au retour</td>\n",
       "      <td>-0.526476</td>\n",
       "      <td>0.643689</td>\n",
       "      <td>-0.571387</td>\n",
       "      <td>0.678284</td>\n",
       "      <td>-0.325777</td>\n",
       "      <td>0.989899</td>\n",
       "    </tr>\n",
       "  </tbody>\n",
       "</table>\n",
       "</div>"
      ],
      "text/plain": [
       "                         Moyenne 1 er service  Pourcent 1 er service  \\\n",
       "Moyenne 1 er service                 0.989899              -0.769802   \n",
       "Pourcent 1 er service               -0.769802               0.989899   \n",
       "Balles break sauvees                 0.542429              -0.441760   \n",
       "Balles break gagnees                -0.654339               0.733447   \n",
       "Pts gagnes 1 er service              0.376047              -0.321994   \n",
       "Pts gagnes au retour                -0.526476               0.643689   \n",
       "\n",
       "                         Balles break sauvees  Balles break gagnees  \\\n",
       "Moyenne 1 er service                 0.542429             -0.654339   \n",
       "Pourcent 1 er service               -0.441760              0.733447   \n",
       "Balles break sauvees                 0.989899             -0.427289   \n",
       "Balles break gagnees                -0.427289              0.989899   \n",
       "Pts gagnes 1 er service              0.345209             -0.236000   \n",
       "Pts gagnes au retour                -0.571387              0.678284   \n",
       "\n",
       "                         Pts gagnes 1 er service  Pts gagnes au retour  \n",
       "Moyenne 1 er service                    0.376047             -0.526476  \n",
       "Pourcent 1 er service                  -0.321994              0.643689  \n",
       "Balles break sauvees                    0.345209             -0.571387  \n",
       "Balles break gagnees                   -0.236000              0.678284  \n",
       "Pts gagnes 1 er service                 0.989899             -0.325777  \n",
       "Pts gagnes au retour                   -0.325777              0.989899  "
      ]
     },
     "execution_count": 12,
     "metadata": {},
     "output_type": "execute_result"
    }
   ],
   "source": [
    "correlation_matrix"
   ]
  },
  {
   "cell_type": "code",
   "execution_count": 13,
   "metadata": {},
   "outputs": [
    {
     "data": {
      "image/png": "[encoded data removed]",
      "text/plain": [
       "<Figure size 432x288 with 2 Axes>"
      ]
     },
     "metadata": {
      "needs_background": "light"
     },
     "output_type": "display_data"
    }
   ],
   "source": [
    "ax = sns.heatmap(correlation_matrix)"
   ]
  },
  {
   "cell_type": "markdown",
   "metadata": {},
   "source": [
    "# Question 3"
   ]
  },
  {
   "cell_type": "code",
   "execution_count": 14,
   "metadata": {},
   "outputs": [],
   "source": [
    "def projection (dataframe):\n",
    "    df = dataframe.copy()\n",
    "    df.reset_index(inplace = True)\n",
    "    correlation_matrix = create_correlation_matrix(dataframe)\n",
    "    w, v = np.linalg.eig(correlation_matrix)\n",
    "    u_1 = v[:,0]\n",
    "    u_2 = v[:,1]\n",
    "    X = []\n",
    "    Y = []\n",
    "\n",
    "    for i in df.index:\n",
    "        X.append(np.dot(np.array(df.loc[i][1:]), u_1))\n",
    "        Y.append(np.dot(np.array(df.loc[i][1:]), u_2))\n",
    "#     plt.scatter(X,Y)\n",
    "    return X,Y"
   ]
  },
  {
   "cell_type": "code",
   "execution_count": 15,
   "metadata": {},
   "outputs": [
    {
     "data": {
      "text/plain": [
       "<matplotlib.collections.PathCollection at 0x14a01489f88>"
      ]
     },
     "execution_count": 15,
     "metadata": {},
     "output_type": "execute_result"
    },
    {
     "data": {
      "image/png": "[encoded data removed]",
      "text/plain": [
       "<Figure size 432x288 with 1 Axes>"
      ]
     },
     "metadata": {
      "needs_background": "light"
     },
     "output_type": "display_data"
    }
   ],
   "source": [
    "plt.scatter(projection(data)[0], projection(data)[1])"
   ]
  },
  {
   "cell_type": "markdown",
   "metadata": {},
   "source": [
    "# Question 4"
   ]
  },
  {
   "cell_type": "code",
   "execution_count": 16,
   "metadata": {},
   "outputs": [],
   "source": [
    "w, v = np.linalg.eig(correlation_matrix)\n",
    "lamda1 = w[0]\n",
    "lamda2 = w[1]\n",
    "u_1 = v[:,0]\n",
    "u_2 = v[:,1]\n",
    "p = 6\n",
    "X= []\n",
    "Y=[]\n",
    "\n",
    "for i in range (p):\n",
    "    ri1 = u_1[i] * np.sqrt(lamda1)\n",
    "    ri2 = u_2[i] * np.sqrt(lamda2)\n",
    "    X.append(ri1)\n",
    "    Y.append(ri2)\n",
    "    \n"
   ]
  },
  {
   "cell_type": "code",
   "execution_count": 17,
   "metadata": {},
   "outputs": [
    {
     "data": {
      "text/plain": [
       "<matplotlib.collections.PathCollection at 0x14a014ced08>"
      ]
     },
     "execution_count": 17,
     "metadata": {},
     "output_type": "execute_result"
    },
    {
     "data": {
      "image/png": "[encoded data removed]",
      "text/plain": [
       "<Figure size 432x288 with 1 Axes>"
      ]
     },
     "metadata": {
      "needs_background": "light"
     },
     "output_type": "display_data"
    }
   ],
   "source": [
    "circle = plt.Circle((0,0),1, fill =False)\n",
    "\n",
    "fig, ax = plt.subplots()\n",
    "ax.set_xlim((-1, 1))\n",
    "ax.set_ylim((-1, 1))\n",
    "ax.add_artist(circle)\n",
    "ax.scatter(X,Y)"
   ]
  },
  {
   "cell_type": "markdown",
   "metadata": {},
   "source": [
    "# Question 5"
   ]
  },
  {
   "cell_type": "markdown",
   "metadata": {},
   "source": [
    "On observe trois ensembles sur la figure de l'ACP, à gauche, au centre et à droite. On a donc envie de prendre k=3"
   ]
  },
  {
   "cell_type": "markdown",
   "metadata": {},
   "source": [
    "# Question 6"
   ]
  },
  {
   "cell_type": "code",
   "execution_count": 18,
   "metadata": {},
   "outputs": [],
   "source": [
    "k = 3 # nombre de clusters"
   ]
  },
  {
   "cell_type": "code",
   "execution_count": 23,
   "metadata": {},
   "outputs": [],
   "source": [
    "def getDist(p1, p2):\n",
    "    return ((p1[0]-p2[0])**2 + (p1[1]-p2[1])**2)\n",
    "\n",
    "def getClosest(centers, point):\n",
    "    currDist = getDist(centers[0], point)\n",
    "    currPoint = centers[0]\n",
    "    currInd = 0\n",
    "    for i,center in enumerate(centers):\n",
    "        if getDist(center,point) < currDist:\n",
    "            currDist = getDist(center,point)\n",
    "            currPoint = center\n",
    "            currInd = i\n",
    "    return currInd\n",
    "\n",
    "def getBar(points):\n",
    "    totalx = 0\n",
    "    totaly = 0\n",
    "    n = len(points)\n",
    "    for p in points:\n",
    "        totalx+=p[0]\n",
    "        totaly+=p[1]\n",
    "    return (totalx/n,totaly/n)\n",
    "\n",
    "def printClusters(points,k):\n",
    "    colors = ['pink', 'g', 'orange', 'blue']\n",
    "    for i in range(k):\n",
    "        plt.plot(*zip(*points[i]),'x', color=colors[i])\n",
    "\n",
    "        \n",
    "def clusters():\n",
    "    n = data.shape[0]\n",
    "    L = []\n",
    "    for i in range(n):\n",
    "        L.append((A[i],B[i]))\n",
    "\n",
    "\n",
    "    k = 3\n",
    "    centers, points = [], []\n",
    "    for i in range(k): # init centers with first values\n",
    "        centers.append((A[i], B[i]))\n",
    "        points.append(set())\n",
    "    cluster = {}\n",
    "\n",
    "    for p in L:\n",
    "        clusterIndex = getClosest(centers,p)\n",
    "        points[clusterIndex].add(p)\n",
    "        cluster[p] = clusterIndex\n",
    "\n",
    "    for i in range(k):\n",
    "        centers[i] = getBar(points[i])\n",
    "\n",
    "\n",
    "\n",
    "    while(True): # Until no cluster centre gets changed\n",
    "\n",
    "        updated = False\n",
    "\n",
    "        for p in L:\n",
    "            clusterIndex = getClosest(centers,p)\n",
    "            formerCluster = cluster[p]\n",
    "            if formerCluster!=clusterIndex:\n",
    "                points[formerCluster].remove(p)\n",
    "                points[clusterIndex].add(p)\n",
    "                cluster[p] = clusterIndex\n",
    "                centers[formerCluster] = getBar(points[formerCluster])\n",
    "                centers[clusterIndex] = getBar(points[clusterIndex])\n",
    "                updated = True\n",
    "\n",
    "        if not updated: \n",
    "            break\n",
    "\n",
    "    plt.plot(*zip(*centers),'o', color='r')\n",
    "    printClusters(points,k)\n"
   ]
  },
  {
   "cell_type": "code",
   "execution_count": 24,
   "metadata": {},
   "outputs": [
    {
     "data": {
      "image/png": "[encoded data removed]",
      "text/plain": [
       "<Figure size 432x288 with 1 Axes>"
      ]
     },
     "metadata": {
      "needs_background": "light"
     },
     "output_type": "display_data"
    }
   ],
   "source": [
    "clusters()"
   ]
  },
  {
   "cell_type": "code",
   "execution_count": null,
   "metadata": {},
   "outputs": [],
   "source": []
  }
 ],
 "metadata": {
  "kernelspec": {
   "display_name": "Python 3",
   "language": "python",
   "name": "python3"
  },
  "language_info": {
   "codemirror_mode": {
    "name": "ipython",
    "version": 3
   },
   "file_extension": ".py",
   "mimetype": "text/x-python",
   "name": "python",
   "nbconvert_exporter": "python",
   "pygments_lexer": "ipython3",
   "version": "3.7.4"
  }
 },
 "nbformat": 4,
 "nbformat_minor": 2
}
