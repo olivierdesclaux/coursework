{
 "cells": [
  {
   "cell_type": "markdown",
   "metadata": {},
   "source": [
    "# Question 1"
   ]
  },
  {
   "cell_type": "code",
   "execution_count": 36,
   "metadata": {},
   "outputs": [],
   "source": [
    "import csv\n",
    "import pandas as pd\n",
    "import numpy as np\n",
    "import seaborn as sns\n",
    "import matplotlib.pyplot as plt\n",
    "from copy import deepcopy"
   ]
  },
  {
   "cell_type": "code",
   "execution_count": 2,
   "metadata": {},
   "outputs": [],
   "source": [
    "def extractioncsv(fichiercsv):\n",
    "    liste = []\n",
    "    with open(fichiercsv, encoding= 'utf8') as fcsv:\n",
    "        lecteur = csv.reader(fcsv, delimiter=';')\n",
    "        for ligne in lecteur:\n",
    "            liste.append(ligne)\n",
    "    return liste\n",
    "\n",
    "TennisChiffres=extractioncsv(\"TennisChiffresTop100_2018.csv\")"
   ]
  },
  {
   "cell_type": "code",
   "execution_count": 3,
   "metadata": {},
   "outputs": [],
   "source": [
    "def convert_to_float(tableau):\n",
    "    L = tableau\n",
    "    n = len(tableau[0])\n",
    "    for i in range (1, len(tableau)):\n",
    "        for j in range (1, n):\n",
    "            L[i][j] = float(tableau[i][j])\n",
    "            \n",
    "    return L"
   ]
  },
  {
   "cell_type": "code",
   "execution_count": 4,
   "metadata": {},
   "outputs": [],
   "source": [
    "bla = convert_to_float(TennisChiffres)\n",
    "bla = np.array(bla)\n",
    "bla[0][0] = 'Players'"
   ]
  },
  {
   "cell_type": "markdown",
   "metadata": {},
   "source": [
    "# Question 2"
   ]
  },
  {
   "cell_type": "code",
   "execution_count": 5,
   "metadata": {},
   "outputs": [],
   "source": [
    "blabla = pd.DataFrame(bla[1:], columns = bla[0])\n",
    "blabla.set_index('Players', inplace = True)\n",
    "blabla = blabla.astype(float)"
   ]
  },
  {
   "cell_type": "code",
   "execution_count": 6,
   "metadata": {},
   "outputs": [
    {
     "data": {
      "text/html": [
       "<div>\n",
       "<style scoped>\n",
       "    .dataframe tbody tr th:only-of-type {\n",
       "        vertical-align: middle;\n",
       "    }\n",
       "\n",
       "    .dataframe tbody tr th {\n",
       "        vertical-align: top;\n",
       "    }\n",
       "\n",
       "    .dataframe thead th {\n",
       "        text-align: right;\n",
       "    }\n",
       "</style>\n",
       "<table border=\"1\" class=\"dataframe\">\n",
       "  <thead>\n",
       "    <tr style=\"text-align: right;\">\n",
       "      <th></th>\n",
       "      <th>Moyenne 1 er service</th>\n",
       "      <th>Pourcent 1 er service</th>\n",
       "      <th>Balles break sauvees</th>\n",
       "      <th>Balles break gagnees</th>\n",
       "      <th>Pts gagnes 1 er service</th>\n",
       "      <th>Pts gagnes au retour</th>\n",
       "    </tr>\n",
       "    <tr>\n",
       "      <th>Players</th>\n",
       "      <th></th>\n",
       "      <th></th>\n",
       "      <th></th>\n",
       "      <th></th>\n",
       "      <th></th>\n",
       "      <th></th>\n",
       "    </tr>\n",
       "  </thead>\n",
       "  <tbody>\n",
       "    <tr>\n",
       "      <td>Bautista</td>\n",
       "      <td>179.0</td>\n",
       "      <td>81.0</td>\n",
       "      <td>84.0</td>\n",
       "      <td>26.0</td>\n",
       "      <td>78.0</td>\n",
       "      <td>63.0</td>\n",
       "    </tr>\n",
       "    <tr>\n",
       "      <td>Berdych</td>\n",
       "      <td>189.0</td>\n",
       "      <td>68.0</td>\n",
       "      <td>85.0</td>\n",
       "      <td>26.0</td>\n",
       "      <td>82.0</td>\n",
       "      <td>63.0</td>\n",
       "    </tr>\n",
       "    <tr>\n",
       "      <td>Cilic</td>\n",
       "      <td>191.0</td>\n",
       "      <td>70.0</td>\n",
       "      <td>82.0</td>\n",
       "      <td>25.0</td>\n",
       "      <td>86.0</td>\n",
       "      <td>60.0</td>\n",
       "    </tr>\n",
       "    <tr>\n",
       "      <td>Del Potro</td>\n",
       "      <td>196.0</td>\n",
       "      <td>78.0</td>\n",
       "      <td>88.0</td>\n",
       "      <td>26.0</td>\n",
       "      <td>90.0</td>\n",
       "      <td>58.0</td>\n",
       "    </tr>\n",
       "    <tr>\n",
       "      <td>Dimitrov</td>\n",
       "      <td>195.0</td>\n",
       "      <td>64.0</td>\n",
       "      <td>94.0</td>\n",
       "      <td>19.0</td>\n",
       "      <td>81.0</td>\n",
       "      <td>53.0</td>\n",
       "    </tr>\n",
       "    <tr>\n",
       "      <td>...</td>\n",
       "      <td>...</td>\n",
       "      <td>...</td>\n",
       "      <td>...</td>\n",
       "      <td>...</td>\n",
       "      <td>...</td>\n",
       "      <td>...</td>\n",
       "    </tr>\n",
       "    <tr>\n",
       "      <td></td>\n",
       "      <td>178.0</td>\n",
       "      <td>86.0</td>\n",
       "      <td>85.0</td>\n",
       "      <td>29.0</td>\n",
       "      <td>91.0</td>\n",
       "      <td>66.0</td>\n",
       "    </tr>\n",
       "    <tr>\n",
       "      <td></td>\n",
       "      <td>177.0</td>\n",
       "      <td>82.0</td>\n",
       "      <td>83.0</td>\n",
       "      <td>27.0</td>\n",
       "      <td>87.0</td>\n",
       "      <td>66.0</td>\n",
       "    </tr>\n",
       "    <tr>\n",
       "      <td></td>\n",
       "      <td>176.0</td>\n",
       "      <td>86.0</td>\n",
       "      <td>86.0</td>\n",
       "      <td>29.0</td>\n",
       "      <td>88.0</td>\n",
       "      <td>65.0</td>\n",
       "    </tr>\n",
       "    <tr>\n",
       "      <td></td>\n",
       "      <td>182.0</td>\n",
       "      <td>84.0</td>\n",
       "      <td>89.0</td>\n",
       "      <td>28.0</td>\n",
       "      <td>83.0</td>\n",
       "      <td>71.0</td>\n",
       "    </tr>\n",
       "    <tr>\n",
       "      <td></td>\n",
       "      <td>177.0</td>\n",
       "      <td>81.0</td>\n",
       "      <td>85.0</td>\n",
       "      <td>31.0</td>\n",
       "      <td>83.0</td>\n",
       "      <td>66.0</td>\n",
       "    </tr>\n",
       "  </tbody>\n",
       "</table>\n",
       "<p>99 rows × 6 columns</p>\n",
       "</div>"
      ],
      "text/plain": [
       "           Moyenne 1 er service  Pourcent 1 er service  Balles break sauvees  \\\n",
       "Players                                                                        \n",
       "Bautista                  179.0                   81.0                  84.0   \n",
       "Berdych                   189.0                   68.0                  85.0   \n",
       "Cilic                     191.0                   70.0                  82.0   \n",
       "Del Potro                 196.0                   78.0                  88.0   \n",
       "Dimitrov                  195.0                   64.0                  94.0   \n",
       "...                         ...                    ...                   ...   \n",
       "                          178.0                   86.0                  85.0   \n",
       "                          177.0                   82.0                  83.0   \n",
       "                          176.0                   86.0                  86.0   \n",
       "                          182.0                   84.0                  89.0   \n",
       "                          177.0                   81.0                  85.0   \n",
       "\n",
       "           Balles break gagnees  Pts gagnes 1 er service  Pts gagnes au retour  \n",
       "Players                                                                         \n",
       "Bautista                   26.0                     78.0                  63.0  \n",
       "Berdych                    26.0                     82.0                  63.0  \n",
       "Cilic                      25.0                     86.0                  60.0  \n",
       "Del Potro                  26.0                     90.0                  58.0  \n",
       "Dimitrov                   19.0                     81.0                  53.0  \n",
       "...                         ...                      ...                   ...  \n",
       "                           29.0                     91.0                  66.0  \n",
       "                           27.0                     87.0                  66.0  \n",
       "                           29.0                     88.0                  65.0  \n",
       "                           28.0                     83.0                  71.0  \n",
       "                           31.0                     83.0                  66.0  \n",
       "\n",
       "[99 rows x 6 columns]"
      ]
     },
     "execution_count": 6,
     "metadata": {},
     "output_type": "execute_result"
    }
   ],
   "source": [
    "blabla"
   ]
  },
  {
   "cell_type": "code",
   "execution_count": 7,
   "metadata": {},
   "outputs": [
    {
     "data": {
      "text/plain": [
       "Index(['Bautista', 'Berdych', 'Cilic', 'Del Potro', 'Dimitrov', 'Djokovic',\n",
       "       'Federer', 'Ferrer', 'Gasquet', 'Goffin', 'Isner', 'Johnson',\n",
       "       'Karlovic', 'Kohlschreiber', 'Kyrgios', 'Lopez', 'Murray', 'Nadal',\n",
       "       'Nishikori', 'Pouille', 'Raonic', 'Simon', 'Thiem', 'Querrey', 'Tsonga',\n",
       "       'Wawrinka', 'Zverev', '', '', '', '', '', '', '', '', '', '', '', '',\n",
       "       '', '', '', '', '', '', '', '', '', '', '', '', '', '', '', '', '', '',\n",
       "       '', '', '', '', '', '', '', '', '', '', '', '', '', '', '', '', '', '',\n",
       "       '', '', '', '', '', '', '', '', '', '', '', '', '', '', '', '', '', '',\n",
       "       '', '', '', '', '', ''],\n",
       "      dtype='object', name='Players')"
      ]
     },
     "execution_count": 7,
     "metadata": {},
     "output_type": "execute_result"
    }
   ],
   "source": [
    "blabla.index"
   ]
  },
  {
   "cell_type": "code",
   "execution_count": 8,
   "metadata": {},
   "outputs": [
    {
     "data": {
      "text/plain": [
       "183.76767676767676"
      ]
     },
     "execution_count": 8,
     "metadata": {},
     "output_type": "execute_result"
    }
   ],
   "source": [
    "blabla.describe()['Moyenne 1 er service']['mean']"
   ]
  },
  {
   "cell_type": "code",
   "execution_count": 9,
   "metadata": {},
   "outputs": [],
   "source": [
    "def create_correlation_matrix(df):\n",
    "    len_columns = blabla.shape[1]\n",
    "    len_rows = blabla.shape[0]\n",
    "    dataframe = df.copy()\n",
    "    for column in df.columns:\n",
    "        column_mean = df.describe()[column]['mean']\n",
    "        column_std = df.describe()[column]['std']\n",
    "        for row in df.index:\n",
    "            dataframe[column][row] = (df[column][row] - column_mean) / column_std\n",
    "    matrix = np.dot(dataframe.T, dataframe)\n",
    "    matrix = np.dot(1/len_rows, matrix)\n",
    "    correlation_df = pd.DataFrame(matrix, index = df.columns, columns = df.columns)\n",
    "    return correlation_df"
   ]
  },
  {
   "cell_type": "code",
   "execution_count": 10,
   "metadata": {},
   "outputs": [],
   "source": [
    "correlation_matrix = create_correlation_matrix(blabla)"
   ]
  },
  {
   "cell_type": "code",
   "execution_count": 11,
   "metadata": {},
   "outputs": [
    {
     "data": {
      "text/html": [
       "<div>\n",
       "<style scoped>\n",
       "    .dataframe tbody tr th:only-of-type {\n",
       "        vertical-align: middle;\n",
       "    }\n",
       "\n",
       "    .dataframe tbody tr th {\n",
       "        vertical-align: top;\n",
       "    }\n",
       "\n",
       "    .dataframe thead th {\n",
       "        text-align: right;\n",
       "    }\n",
       "</style>\n",
       "<table border=\"1\" class=\"dataframe\">\n",
       "  <thead>\n",
       "    <tr style=\"text-align: right;\">\n",
       "      <th></th>\n",
       "      <th>Moyenne 1 er service</th>\n",
       "      <th>Pourcent 1 er service</th>\n",
       "      <th>Balles break sauvees</th>\n",
       "      <th>Balles break gagnees</th>\n",
       "      <th>Pts gagnes 1 er service</th>\n",
       "      <th>Pts gagnes au retour</th>\n",
       "    </tr>\n",
       "  </thead>\n",
       "  <tbody>\n",
       "    <tr>\n",
       "      <td>Moyenne 1 er service</td>\n",
       "      <td>0.989899</td>\n",
       "      <td>-0.769802</td>\n",
       "      <td>0.542429</td>\n",
       "      <td>-0.654339</td>\n",
       "      <td>0.376047</td>\n",
       "      <td>-0.526476</td>\n",
       "    </tr>\n",
       "    <tr>\n",
       "      <td>Pourcent 1 er service</td>\n",
       "      <td>-0.769802</td>\n",
       "      <td>0.989899</td>\n",
       "      <td>-0.441760</td>\n",
       "      <td>0.733447</td>\n",
       "      <td>-0.321994</td>\n",
       "      <td>0.643689</td>\n",
       "    </tr>\n",
       "    <tr>\n",
       "      <td>Balles break sauvees</td>\n",
       "      <td>0.542429</td>\n",
       "      <td>-0.441760</td>\n",
       "      <td>0.989899</td>\n",
       "      <td>-0.427289</td>\n",
       "      <td>0.345209</td>\n",
       "      <td>-0.571387</td>\n",
       "    </tr>\n",
       "    <tr>\n",
       "      <td>Balles break gagnees</td>\n",
       "      <td>-0.654339</td>\n",
       "      <td>0.733447</td>\n",
       "      <td>-0.427289</td>\n",
       "      <td>0.989899</td>\n",
       "      <td>-0.236000</td>\n",
       "      <td>0.678284</td>\n",
       "    </tr>\n",
       "    <tr>\n",
       "      <td>Pts gagnes 1 er service</td>\n",
       "      <td>0.376047</td>\n",
       "      <td>-0.321994</td>\n",
       "      <td>0.345209</td>\n",
       "      <td>-0.236000</td>\n",
       "      <td>0.989899</td>\n",
       "      <td>-0.325777</td>\n",
       "    </tr>\n",
       "    <tr>\n",
       "      <td>Pts gagnes au retour</td>\n",
       "      <td>-0.526476</td>\n",
       "      <td>0.643689</td>\n",
       "      <td>-0.571387</td>\n",
       "      <td>0.678284</td>\n",
       "      <td>-0.325777</td>\n",
       "      <td>0.989899</td>\n",
       "    </tr>\n",
       "  </tbody>\n",
       "</table>\n",
       "</div>"
      ],
      "text/plain": [
       "                         Moyenne 1 er service  Pourcent 1 er service  \\\n",
       "Moyenne 1 er service                 0.989899              -0.769802   \n",
       "Pourcent 1 er service               -0.769802               0.989899   \n",
       "Balles break sauvees                 0.542429              -0.441760   \n",
       "Balles break gagnees                -0.654339               0.733447   \n",
       "Pts gagnes 1 er service              0.376047              -0.321994   \n",
       "Pts gagnes au retour                -0.526476               0.643689   \n",
       "\n",
       "                         Balles break sauvees  Balles break gagnees  \\\n",
       "Moyenne 1 er service                 0.542429             -0.654339   \n",
       "Pourcent 1 er service               -0.441760              0.733447   \n",
       "Balles break sauvees                 0.989899             -0.427289   \n",
       "Balles break gagnees                -0.427289              0.989899   \n",
       "Pts gagnes 1 er service              0.345209             -0.236000   \n",
       "Pts gagnes au retour                -0.571387              0.678284   \n",
       "\n",
       "                         Pts gagnes 1 er service  Pts gagnes au retour  \n",
       "Moyenne 1 er service                    0.376047             -0.526476  \n",
       "Pourcent 1 er service                  -0.321994              0.643689  \n",
       "Balles break sauvees                    0.345209             -0.571387  \n",
       "Balles break gagnees                   -0.236000              0.678284  \n",
       "Pts gagnes 1 er service                 0.989899             -0.325777  \n",
       "Pts gagnes au retour                   -0.325777              0.989899  "
      ]
     },
     "execution_count": 11,
     "metadata": {},
     "output_type": "execute_result"
    }
   ],
   "source": [
    "correlation_matrix\n"
   ]
  },
  {
   "cell_type": "code",
   "execution_count": 12,
   "metadata": {},
   "outputs": [
    {
     "data": {
      "image/png": "[encoded data removed]",
      "text/plain": [
       "<Figure size 432x288 with 2 Axes>"
      ]
     },
     "metadata": {
      "needs_background": "light"
     },
     "output_type": "display_data"
    }
   ],
   "source": [
    "ax = sns.heatmap(correlation_matrix)"
   ]
  },
  {
   "cell_type": "markdown",
   "metadata": {},
   "source": [
    "# Question 3"
   ]
  },
  {
   "cell_type": "code",
   "execution_count": 13,
   "metadata": {},
   "outputs": [],
   "source": [
    "def projection (dataframe):\n",
    "    df = dataframe.copy()\n",
    "    df.reset_index(inplace = True)\n",
    "    correlation_matrix = create_correlation_matrix(dataframe)\n",
    "    w, v = np.linalg.eig(correlation_matrix)\n",
    "    u_1 = v[:,0]\n",
    "    u_2 = v[:,1]\n",
    "    X = []\n",
    "    Y = []\n",
    "\n",
    "    for i in df.index:\n",
    "        X.append(np.dot(np.array(df.loc[i][1:]), u_1))\n",
    "        Y.append(np.dot(np.array(df.loc[i][1:]), u_2))\n",
    "#     plt.scatter(X,Y)\n",
    "    return X,Y"
   ]
  },
  {
   "cell_type": "code",
   "execution_count": 14,
   "metadata": {},
   "outputs": [
    {
     "data": {
      "text/plain": [
       "([-56.406727429969585,\n",
       "  -68.2817851316693,\n",
       "  -69.93823028692762,\n",
       "  -72.23302938503458,\n",
       "  -83.29542305688778,\n",
       "  -64.21130959726975,\n",
       "  -62.8119587194834,\n",
       "  -56.310538053501325,\n",
       "  -68.54974369344555,\n",
       "  -69.7511394768853,\n",
       "  -88.77050251713825,\n",
       "  -86.35896344833104,\n",
       "  -87.98204736360391,\n",
       "  -50.56668677372603,\n",
       "  -86.30830411482827,\n",
       "  -85.99002539240053,\n",
       "  -53.54773317266257,\n",
       "  -56.15224423812294,\n",
       "  -65.84329817653658,\n",
       "  -62.78654501764623,\n",
       "  -82.2173562339155,\n",
       "  -52.441139799082,\n",
       "  -52.244559027255136,\n",
       "  -56.528703342963496,\n",
       "  -64.98602847491114,\n",
       "  -74.33247758437346,\n",
       "  -72.07746892256665,\n",
       "  -73.12912724042337,\n",
       "  -66.73247796968928,\n",
       "  -67.03702363072276,\n",
       "  -65.69100226156974,\n",
       "  -69.03680797327375,\n",
       "  -68.22015320640807,\n",
       "  -69.18599710508737,\n",
       "  -71.88933491074727,\n",
       "  -66.25602101702998,\n",
       "  -73.83875337985991,\n",
       "  -69.00127767882253,\n",
       "  -67.81118518271545,\n",
       "  -74.02343618708699,\n",
       "  -72.27180493591584,\n",
       "  -68.43728036808355,\n",
       "  -69.91853713958092,\n",
       "  -66.14913969018092,\n",
       "  -90.76153132657063,\n",
       "  -84.0002449442584,\n",
       "  -84.9660615516149,\n",
       "  -90.3299623853155,\n",
       "  -84.5799365256323,\n",
       "  -85.47875553171676,\n",
       "  -55.038652569845375,\n",
       "  -52.552177689332794,\n",
       "  -52.71374618518716,\n",
       "  -53.65846839299121,\n",
       "  -52.37084300861425,\n",
       "  -50.68367314085424,\n",
       "  -55.52555121033023,\n",
       "  -56.570112858452525,\n",
       "  -57.57007462219788,\n",
       "  -51.3356092374366,\n",
       "  -53.08834804683149,\n",
       "  -55.72510665750508,\n",
       "  -50.007312752635684,\n",
       "  -55.24787433248686,\n",
       "  -57.47200052417139,\n",
       "  -58.83636600879297,\n",
       "  -50.72590899007686,\n",
       "  -52.17801008079218,\n",
       "  -57.943792479963435,\n",
       "  -57.83014759061333,\n",
       "  -54.04263451705373,\n",
       "  -54.36503672415845,\n",
       "  -58.310407602376685,\n",
       "  -47.37998437685173,\n",
       "  -51.947671051385925,\n",
       "  -51.32805017283777,\n",
       "  -49.63709196346612,\n",
       "  -58.587224076134206,\n",
       "  -50.199679745280356,\n",
       "  -55.265515652022,\n",
       "  -54.93091694209946,\n",
       "  -56.98104215815327,\n",
       "  -60.294780365692816,\n",
       "  -50.12390063526003,\n",
       "  -54.24986014226536,\n",
       "  -53.555325631773144,\n",
       "  -52.01958081785361,\n",
       "  -58.264167601893845,\n",
       "  -53.40862184829413,\n",
       "  -53.098765143236605,\n",
       "  -51.01350881645658,\n",
       "  -54.23120856937881,\n",
       "  -58.770209551474906,\n",
       "  -52.273309213166264,\n",
       "  -54.861049467771366,\n",
       "  -55.321393360955526,\n",
       "  -53.97615137975689,\n",
       "  -55.22346304657671,\n",
       "  -53.71157551350453],\n",
       " [-112.99199724671911,\n",
       "  -113.21669076469712,\n",
       "  -115.62655684861733,\n",
       "  -122.34505353910237,\n",
       "  -110.0184535191516,\n",
       "  -129.3533238438974,\n",
       "  -128.87346066039973,\n",
       "  -114.12900138625122,\n",
       "  -117.1234224349835,\n",
       "  -116.92535069245982,\n",
       "  -116.39467539164788,\n",
       "  -116.70324913917901,\n",
       "  -111.77629190813747,\n",
       "  -118.1376018769413,\n",
       "  -117.25759810054859,\n",
       "  -122.9241231087601,\n",
       "  -125.76161738080279,\n",
       "  -115.52194939132681,\n",
       "  -115.38805862549188,\n",
       "  -120.47429444825141,\n",
       "  -116.42388487723491,\n",
       "  -113.68684805966797,\n",
       "  -122.95849824227476,\n",
       "  -119.35205085848871,\n",
       "  -109.94629996816062,\n",
       "  -119.71834932280638,\n",
       "  -114.90408569650448,\n",
       "  -115.18568808896777,\n",
       "  -111.4295655638552,\n",
       "  -113.0710596838592,\n",
       "  -118.38054067711353,\n",
       "  -118.94599116889667,\n",
       "  -112.99468330777805,\n",
       "  -114.22530673017657,\n",
       "  -114.0703615606516,\n",
       "  -116.97403030281211,\n",
       "  -112.00078463173894,\n",
       "  -113.65942076738567,\n",
       "  -113.382359436954,\n",
       "  -112.36380738335336,\n",
       "  -106.27514268464266,\n",
       "  -111.58289802208358,\n",
       "  -113.11650091853996,\n",
       "  -113.4236607749893,\n",
       "  -116.56047452825426,\n",
       "  -106.51554267389437,\n",
       "  -112.77071773687531,\n",
       "  -116.93662848333244,\n",
       "  -117.90813980554266,\n",
       "  -113.54720330688725,\n",
       "  -117.94913775497125,\n",
       "  -113.93135768981149,\n",
       "  -118.68306660275968,\n",
       "  -113.87866662150452,\n",
       "  -117.84860255149329,\n",
       "  -113.58000190960571,\n",
       "  -118.62718700539237,\n",
       "  -118.7375903309539,\n",
       "  -117.52053554149232,\n",
       "  -111.49861069195279,\n",
       "  -119.54693953841043,\n",
       "  -107.49340822402918,\n",
       "  -120.71426090711796,\n",
       "  -117.94907639686076,\n",
       "  -118.56625649445697,\n",
       "  -118.73030673294743,\n",
       "  -115.29569432065597,\n",
       "  -116.15923984598753,\n",
       "  -123.4546841061835,\n",
       "  -120.39919114861591,\n",
       "  -118.86874891110065,\n",
       "  -123.35790864141285,\n",
       "  -120.86480152400162,\n",
       "  -120.2864151394637,\n",
       "  -122.2496795058815,\n",
       "  -118.30319053042007,\n",
       "  -120.87365212078176,\n",
       "  -119.81915497194322,\n",
       "  -115.71499467061321,\n",
       "  -117.22180734059279,\n",
       "  -116.36205734400744,\n",
       "  -114.80576077443773,\n",
       "  -119.05469214814053,\n",
       "  -118.31075141574544,\n",
       "  -121.74882402717793,\n",
       "  -117.61953217920211,\n",
       "  -111.88218514488922,\n",
       "  -118.87270822039638,\n",
       "  -118.31337613970516,\n",
       "  -119.70833745921098,\n",
       "  -120.67591749302464,\n",
       "  -114.35723514315968,\n",
       "  -120.48406658339826,\n",
       "  -117.51377119727623,\n",
       "  -127.00957756666676,\n",
       "  -121.47572069341582,\n",
       "  -124.6847795582529,\n",
       "  -120.56371034610535,\n",
       "  -119.71912793792535])"
      ]
     },
     "execution_count": 14,
     "metadata": {},
     "output_type": "execute_result"
    }
   ],
   "source": [
    "projection(blabla)"
   ]
  },
  {
   "cell_type": "markdown",
   "metadata": {},
   "source": [
    "# Question 4"
   ]
  },
  {
   "cell_type": "code",
   "execution_count": 15,
   "metadata": {},
   "outputs": [],
   "source": [
    "w, v = np.linalg.eig(correlation_matrix)\n",
    "lamda1 = w[0]\n",
    "lamda2 = w[1]\n",
    "u_1 = v[:,0]\n",
    "u_2 = v[:,1]\n",
    "p = 6\n",
    "X= []\n",
    "Y=[]\n",
    "\n",
    "for i in range (p):\n",
    "    ri1 = u_1[i] * np.sqrt(lamda1)\n",
    "    ri2 = u_2[i] * np.sqrt(lamda2)\n",
    "    X.append(ri1)\n",
    "    Y.append(ri2)\n",
    "    \n"
   ]
  },
  {
   "cell_type": "code",
   "execution_count": 16,
   "metadata": {},
   "outputs": [
    {
     "data": {
      "text/plain": [
       "<matplotlib.collections.PathCollection at 0x1b557ec3048>"
      ]
     },
     "execution_count": 16,
     "metadata": {},
     "output_type": "execute_result"
    },
    {
     "data": {
      "image/png": "[encoded data removed]",
      "text/plain": [
       "<Figure size 432x288 with 1 Axes>"
      ]
     },
     "metadata": {
      "needs_background": "light"
     },
     "output_type": "display_data"
    }
   ],
   "source": [
    "circle = plt.Circle((0,0),1, fill =False)\n",
    "\n",
    "fig, ax = plt.subplots()\n",
    "ax.set_xlim((-1, 1))\n",
    "ax.set_ylim((-1, 1))\n",
    "ax.add_artist(circle)\n",
    "ax.scatter(X,Y)"
   ]
  },
  {
   "cell_type": "markdown",
   "metadata": {},
   "source": [
    "# Question 5"
   ]
  },
  {
   "cell_type": "markdown",
   "metadata": {},
   "source": [
    "On observe trois ensembles sur la figure de l'ACP, à gauche, au centre et à droite. On a donc envie de prendre k=3"
   ]
  },
  {
   "cell_type": "markdown",
   "metadata": {},
   "source": [
    "# Question 6"
   ]
  },
  {
   "cell_type": "code",
   "execution_count": 17,
   "metadata": {},
   "outputs": [],
   "source": [
    "k = 3 # nombre de clusters"
   ]
  },
  {
   "cell_type": "code",
   "execution_count": 38,
   "metadata": {
    "scrolled": true
   },
   "outputs": [],
   "source": [
    "A, B = projection(blabla)\n",
    "X = np.array(list(zip(A, B)))"
   ]
  },
  {
   "cell_type": "code",
   "execution_count": 19,
   "metadata": {},
   "outputs": [],
   "source": [
    "def update_cluster_center(X,Y):\n",
    "    x = X.sum()/(len(X))\n",
    "    y = Y.sum()/(len(Y))\n",
    "    return x,y"
   ]
  },
  {
   "cell_type": "code",
   "execution_count": 20,
   "metadata": {},
   "outputs": [],
   "source": [
    "def create_random_cluster_center(A,B, k = 3):\n",
    "    X = pd.Series(A)\n",
    "    Y = pd.Series(B)\n",
    "    Z = pd.concat(X,Y)\n",
    "    return Z\n",
    "    "
   ]
  },
  {
   "cell_type": "code",
   "execution_count": 21,
   "metadata": {},
   "outputs": [],
   "source": [
    "def dist(a, b, ax=1):\n",
    "    return np.linalg.norm(a - b, axis=ax)"
   ]
  },
  {
   "cell_type": "code",
   "execution_count": 34,
   "metadata": {},
   "outputs": [
    {
     "name": "stdout",
     "output_type": "stream",
     "text": [
      "[[ -56.406727 -112.992   ]\n",
      " [ -68.281784 -113.21669 ]\n",
      " [ -69.93823  -115.62656 ]]\n"
     ]
    }
   ],
   "source": [
    "# Number of clusters\n",
    "k = 3\n",
    "# X coordinates of random centroids\n",
    "C_x = [A[0], A[1], A[2]]\n",
    "# Y coordinates of random centroids\n",
    "C_y = [B[0], B[1], B[2]]\n",
    "C = np.array(list(zip(C_x, C_y)), dtype=np.float32)\n",
    "print(C)"
   ]
  },
  {
   "cell_type": "code",
   "execution_count": 37,
   "metadata": {},
   "outputs": [
    {
     "data": {
      "text/plain": [
       "<matplotlib.collections.PathCollection at 0x1b55817e748>"
      ]
     },
     "execution_count": 37,
     "metadata": {},
     "output_type": "execute_result"
    },
    {
     "data": {
      "image/png": "[encoded data removed]",
      "text/plain": [
       "<Figure size 432x288 with 1 Axes>"
      ]
     },
     "metadata": {
      "needs_background": "light"
     },
     "output_type": "display_data"
    },
    {
     "data": {
      "image/png": "[encoded data removed]",
      "text/plain": [
       "<Figure size 432x288 with 1 Axes>"
      ]
     },
     "metadata": {
      "needs_background": "light"
     },
     "output_type": "display_data"
    }
   ],
   "source": [
    "# Plotting along with the Centroids\n",
    "plt.scatter(A, B, c='#050505', s=7)\n",
    "plt.scatter(C_x, C_y, marker='*', s=200, c='g')\n",
    "\n",
    "# To store the value of centroids when it updates\n",
    "C_old = np.zeros(C.shape)\n",
    "# Cluster Lables(0, 1, 2)\n",
    "clusters = np.zeros(len(X))\n",
    "# Error func. - Distance between new centroids and old centroids\n",
    "error = dist(C, C_old, None)\n",
    "# Loop will run till the error becomes zero\n",
    "while error != 0:\n",
    "    # Assigning each value to its closest cluster\n",
    "    for i in range(len(X)):\n",
    "        distances = dist(X[i], C)\n",
    "        cluster = np.argmin(distances)\n",
    "        clusters[i] = cluster\n",
    "    # Storing the old centroid values\n",
    "    C_old = deepcopy(C)\n",
    "    # Finding the new centroids by taking the average value\n",
    "    for i in range(k):\n",
    "        points = [X[j] for j in range(len(X)) if clusters[j] == i]\n",
    "        C[i] = np.mean(points, axis=0)\n",
    "    error = dist(C, C_old, None)\n",
    "\n",
    "\n",
    "colors = ['r', 'g', 'b', 'y', 'c', 'm']\n",
    "fig, ax = plt.subplots()\n",
    "for i in range(k):\n",
    "        points = np.array([X[j] for j in range(len(X)) if clusters[j] == i])\n",
    "        ax.scatter(points[:, 0], points[:, 1], s=7, c=colors[i])\n",
    "ax.scatter(C[:, 0], C[:, 1], marker='*', s=200, c='#050505')"
   ]
  },
  {
   "cell_type": "code",
   "execution_count": null,
   "metadata": {},
   "outputs": [],
   "source": []
  }
 ],
 "metadata": {
  "kernelspec": {
   "display_name": "Python 3",
   "language": "python",
   "name": "python3"
  },
  "language_info": {
   "codemirror_mode": {
    "name": "ipython",
    "version": 3
   },
   "file_extension": ".py",
   "mimetype": "text/x-python",
   "name": "python",
   "nbconvert_exporter": "python",
   "pygments_lexer": "ipython3",
   "version": "3.7.4"
  }
 },
 "nbformat": 4,
 "nbformat_minor": 2
}
