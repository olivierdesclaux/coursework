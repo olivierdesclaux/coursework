{
 "cells": [
  {
   "cell_type": "markdown",
   "metadata": {},
   "source": [
    "This lab was an introduction to reinforcement learning with simple statistical methods. The first exercise consists in a advertising problem. A website has the possibility to show an ad between A and B. The aim is to maximise the number of clicks on the ad, therefore the most attractive ad.\n",
    "http://gerin.perso.math.cnrs.fr/Enseignements/TP_Bandits.pdf\n",
    "\n",
    "In the second part, we train an algorithm to play Rock-Paper-Scissors. The algorithm plays numerous games against its opponent. When a new game starts at time t, it looks at the two games that were played last (so at times t-1 and t-2). It then looks in its memory when the same combination t-2 and t-1 was played, and what his opponent had played. It then choses the best outcome by looking at the simple probability of success based on experience."
   ]
  },
  {
   "cell_type": "code",
   "execution_count": 11,
   "metadata": {},
   "outputs": [],
   "source": [
    "import numpy as np\n",
    "import matplotlib.pyplot as plt\n",
    "import scipy\n",
    "import random"
   ]
  },
  {
   "cell_type": "markdown",
   "metadata": {},
   "source": [
    "# A suboptimal approach: ε-exploration\n",
    "\n",
    "Let us consider the following strategy:\n",
    "􏰀 We chose E1 = A, E2 = B.\n",
    "\n",
    "􏰀 For i ≥ 3, let Mi be the ad that has the best \"clicking rate\" up to now.\n",
    "\n",
    "􏰀 With probability 1 − ε, we take Ei = Mi,\n",
    "\n",
    "􏰀 With probability ε we take Ei = non(Mi)."
   ]
  },
  {
   "cell_type": "markdown",
   "metadata": {},
   "source": [
    "# Question 2"
   ]
  },
  {
   "cell_type": "code",
   "execution_count": 45,
   "metadata": {},
   "outputs": [],
   "source": [
    "def question2(epsilon, n = 1000, pA = 0.7, pB = 0.5):\n",
    "#     Initialisation\n",
    "    x = [] # liste de stockage des Xi\n",
    "    E = [] #liste de stockage des couples (Ei, Xi)\n",
    "    S = [] \n",
    "    \n",
    "    \n",
    "    x1 = isClique(pA)\n",
    "    x2 = isClique(pB)\n",
    "    x.append(x1)\n",
    "    x.append(x2)\n",
    "    E.append([pA,x1])\n",
    "    E.append([pB,x2])\n",
    "    S.append(x1)\n",
    "    S.append((x1 + x2)/2)\n",
    "    \n",
    "    nbClicsA = x1\n",
    "    nbClicsB = x2\n",
    "    nbAffichagesA, nbAffichagesB = 1,1\n",
    "    \n",
    "    tauxA = tauxSucces(E, pA)\n",
    "    tauxB = tauxSucces(E, pB)\n",
    "    p=0\n",
    "    \n",
    "    \n",
    "#     Récurrence\n",
    "    for i in range(3, n):\n",
    "        alea = random.random()\n",
    "        if tauxA > tauxB: \n",
    "            if (1 - epsilon > alea):\n",
    "                p = pA\n",
    "                nbAffichagesA += 1\n",
    "            else: \n",
    "                p = pB\n",
    "                nbAffichagesB += 1\n",
    "        elif tauxA < tauxB:\n",
    "            if (1 - epsilon > alea):\n",
    "                p = pB\n",
    "                nbAffichagesB += 1\n",
    "            else:\n",
    "                p = pA\n",
    "                nbAffichagesA += 1\n",
    "        else:\n",
    "            alea = random.random()\n",
    "            if alea > 0.5:\n",
    "                p = pA\n",
    "                nbAffichagesA += 1\n",
    "            else:\n",
    "                p=pB\n",
    "                nbAffichagesB += 1\n",
    "        \n",
    "        X = isClique(p)\n",
    "        if p == pA:\n",
    "            nbClicsA += X\n",
    "        else:\n",
    "            nbClicsB += X\n",
    "        \n",
    "        E.append((p,X))\n",
    "        tauxA = nbClicsA / nbAffichagesA\n",
    "        tauxB = nbClicsB / nbAffichagesB\n",
    "        x.append(X)\n",
    "        S.append(sum(x[:i])/i)\n",
    "    return x\n",
    "#     plt.plot(range(1,n,1), S, label = \"\"+ str(epsilon))\n",
    "#     plt.legend()\n",
    "#     plt.xlabel(\"number of clics\")\n",
    "\n",
    "def tauxSucces(E, p):\n",
    "    s= 0\n",
    "    for couple in E:\n",
    "        if couple[0] == p:\n",
    "            s += couple[1]\n",
    "    publicites = [row[0] for row in E]     \n",
    "    return s/(publicites.count(p))\n",
    "\n",
    "def isClique(p):\n",
    "    rand = random.random()\n",
    "    if p> rand:\n",
    "        return 1\n",
    "    else:\n",
    "        return 0\n",
    "    \n",
    "    "
   ]
  },
  {
   "cell_type": "code",
   "execution_count": 29,
   "metadata": {},
   "outputs": [
    {
     "data": {
      "image/png": "[encoded data removed]",
      "text/plain": [
       "<Figure size 432x288 with 1 Axes>"
      ]
     },
     "metadata": {
      "needs_background": "light"
     },
     "output_type": "display_data"
    }
   ],
   "source": [
    "question2(0.01)"
   ]
  },
  {
   "cell_type": "code",
   "execution_count": 30,
   "metadata": {},
   "outputs": [],
   "source": [
    "def differentsEpsilon():\n",
    "# We test the function above for different values of epsilon\n",
    "    for epsilon in [0.0001, 0.001, 0.01, 0.1]:\n",
    "        print(question2(epsilon))"
   ]
  },
  {
   "cell_type": "code",
   "execution_count": 37,
   "metadata": {},
   "outputs": [
    {
     "name": "stdout",
     "output_type": "stream",
     "text": [
      "None\n",
      "None\n",
      "None\n",
      "None\n"
     ]
    },
    {
     "data": {
      "image/png": "[encoded data removed]",
      "text/plain": [
       "<Figure size 432x288 with 1 Axes>"
      ]
     },
     "metadata": {
      "needs_background": "light"
     },
     "output_type": "display_data"
    }
   ],
   "source": [
    "differentsEpsilon()"
   ]
  },
  {
   "cell_type": "markdown",
   "metadata": {},
   "source": [
    "# Question 3 "
   ]
  },
  {
   "cell_type": "code",
   "execution_count": 67,
   "metadata": {},
   "outputs": [],
   "source": [
    "def monte_carlo_estimate(n):\n",
    "# This algorithm evaluates by the Monte Carlo method estimates of the curves:  \n",
    "\n",
    "#                 1\n",
    "#    i∈{1,...,n}􏰃→ -- * E[X1 +···+Xi]\n",
    "#                 i\n",
    "    X=[]\n",
    "    res = []\n",
    "    epsilon = 0.01\n",
    "    for i in range (1, n):\n",
    "        X.append(question2(epsilon))\n",
    "    X = np.array(X) \n",
    "    S = []\n",
    "    for k in range (1, n):\n",
    "        S.append((X[:, k].sum())/n)\n",
    "        res.append(sum(S[:k])/k)\n",
    "    plt.plot(range(1,n,1), res)\n",
    "    plt.xlabel(\"time\")\n",
    "    plt.title('Monte-Carlo estimation')\n",
    "    \n",
    "def multiple_mc_estimates(n, p):\n",
    "# Here we simply compute n Monte Carlo estimates of size p\n",
    "    for _ in range (n):\n",
    "        monte_carlo_estimate(p)"
   ]
  },
  {
   "cell_type": "code",
   "execution_count": 68,
   "metadata": {},
   "outputs": [
    {
     "data": {
      "image/png": "[encoded data removed]",
      "text/plain": [
       "<Figure size 432x288 with 1 Axes>"
      ]
     },
     "metadata": {
      "needs_background": "light"
     },
     "output_type": "display_data"
    }
   ],
   "source": [
    "multiple_mc_estimates(5, 500)"
   ]
  },
  {
   "cell_type": "markdown",
   "metadata": {},
   "source": [
    "# Pierre Feuille Ciseaux"
   ]
  },
  {
   "cell_type": "markdown",
   "metadata": {},
   "source": [
    "Here we are trying to create an algorithm that learns his opponents' strategy at rock-paper-scissors and plays accordingly"
   ]
  },
  {
   "cell_type": "code",
   "execution_count": 69,
   "metadata": {},
   "outputs": [],
   "source": [
    "def ReponseStrategie(L):\n",
    "#This algorithm describes what response should be given to a strategy of an opponent.\n",
    "\n",
    "#Input:\n",
    "#     L: List(size = 3) representing the opponents \"strategy\". If L = [0.2, 0.3, 0.5], it \n",
    "#        means that the opponent plays Rock with probability 0.2, Paper with probability 0.3\n",
    "#        and scissors with probability 0.5\n",
    "\n",
    "#Output: \n",
    "#     List(size =3) representing the best move to play \n",
    "\n",
    "\n",
    "    coupJoue = np.argmax(L)\n",
    "    if coupJoue ==  0:\n",
    "        return [0,1,0]\n",
    "    elif coupJoue == 1:\n",
    "        return [0,0,1]\n",
    "    else:\n",
    "        return [1,0,0]\n",
    "        "
   ]
  },
  {
   "cell_type": "code",
   "execution_count": 71,
   "metadata": {},
   "outputs": [
    {
     "data": {
      "text/plain": [
       "[1, 0, 0]"
      ]
     },
     "execution_count": 71,
     "metadata": {},
     "output_type": "execute_result"
    }
   ],
   "source": [
    "ReponseStrategie([0.2,0.3,0.5])"
   ]
  },
  {
   "cell_type": "code",
   "execution_count": 191,
   "metadata": {},
   "outputs": [],
   "source": [
    "#This cell is dedicated to creating the strategie of our player\n",
    "\n",
    "def apprentissage(epsilon, X, Y):\n",
    "# This function returns the move played by our computer. He plays with what he has learned\n",
    "# with a probability of 1 - epsilon, and plays randomly wih a probability of epsilon (he \n",
    "# \"explores\")\n",
    "\n",
    "#Input:\n",
    "#     epsilon: float, determines the way we play as described above\n",
    "#     X: List, the list of plays we have done before\n",
    "#     Y: List, the list of plays our opponent has done before\n",
    "\n",
    "#Output:\n",
    "#    List of size 3: Our play \n",
    "    alea = np.random.rand()\n",
    "    if ((1-epsilon) > alea):\n",
    "        L = occurencesEvenement(X,Y)\n",
    "        if (len(L) != 0):\n",
    "            S = statistiques_joueur(L)\n",
    "            return ReponseStrategie(S)\n",
    "        else:\n",
    "            return randomMove(0.333, 0.333, 0.333)\n",
    "            \n",
    "    else:\n",
    "        return randomMove(0.333, 0.333, 0.333)\n",
    "\n",
    "    \n",
    "    \n",
    "def occurencesEvenement(X, Y):\n",
    "# We look at the two last moves played by us and our opponent. We look if this sequence has\n",
    "# already occured in the past and what our opponent had played.\n",
    "\n",
    "# Input:\n",
    "#     X: List, the list of plays we have done before\n",
    "#     Y: List, the list of plays our opponent has done before\n",
    "\n",
    "# Output:\n",
    "#    S: the list of all the moves played by our opponent after the sequence of the two last\n",
    "#       moves\n",
    "\n",
    "##########################\n",
    "\n",
    "    XTMoins1 = X[-1]\n",
    "    YTMoins1 = Y[-1]\n",
    "    XTMoins2 = X[- 2]\n",
    "    YTMoins2 = Y[- 2]\n",
    "    \n",
    "    M = []\n",
    "    for i in range (len(X) - 1):\n",
    "        M.append([[X[i], Y[i]], [X[i+1], Y[i+1]]])\n",
    "    \n",
    "    derniereOccurence = [[XTMoins2, YTMoins2], [XTMoins1, YTMoins1]]\n",
    "    S = []\n",
    "    for i in range (len(M)-1):\n",
    "        if derniereOccurence == M[i]:\n",
    "            S.append(M[i+1][0][1])\n",
    "\n",
    "    return S\n",
    "\n",
    "\n",
    "\n",
    "def statistiques_joueur(S):\n",
    "# When looking at a player's list of plays, gives the frequency of these plays\n",
    "\n",
    "#Input:\n",
    "#     S: list of plays of a player through time\n",
    "\n",
    "#Output:\n",
    "#     List of size 3: frequency of plays rock, paper, scissors\n",
    "\n",
    "###########################\n",
    "\n",
    "    pierre = 0\n",
    "    feuille = 0\n",
    "    ciseaux = 0\n",
    "    n = len(S)\n",
    "    for coup in S:\n",
    "        pierre += coup[0]\n",
    "        feuille += coup[1]\n",
    "        ciseaux += coup[2]\n",
    "        \n",
    "    return [pierre/n, feuille/n, ciseaux/n]\n",
    "\n",
    "\n",
    "\n",
    "\n",
    "def randomMove(a,b,c):\n",
    "# Makes a random move: rock with prob a, paper with prob b, scissors with prob c\n",
    "\n",
    "# Input:\n",
    "#      a: float, prob of move rock\n",
    "#      b: float, prob of move paper\n",
    "#      c: float, prob of move scissors\n",
    "\n",
    "# Output:\n",
    "#     List of size 3, a random move\n",
    "\n",
    "######################\n",
    "\n",
    "\n",
    "    alea = np.random.rand()\n",
    "    \n",
    "    if (alea <= a):\n",
    "        return [1,0,0]\n",
    "    elif (a < alea <= a+b):\n",
    "        return [0,1,0]\n",
    "    else:\n",
    "        return [0,0,1]"
   ]
  },
  {
   "cell_type": "code",
   "execution_count": 214,
   "metadata": {},
   "outputs": [],
   "source": [
    "def simulateGame(time, opponent_strategy, epsilon = 0.1):\n",
    "# Computes a game of rock paper scissors between our algorithm and a player that plays with\n",
    "# a given strategy\n",
    "\n",
    "# Input:\n",
    "#      time: int, number of plays to compute\n",
    "#      opponent_strategy: List(size = 3) of probabilities of plays of opponent\n",
    "\n",
    "# Output:\n",
    "#      Moi: list of plays made by our computer\n",
    "#      Aversaire: list of plays made by our opponent\n",
    "\n",
    "#############################\n",
    "\n",
    "\n",
    "    Moi = []\n",
    "    Adversaire = []\n",
    "    for _ in range (3):\n",
    "        Moi.append(randomMove(0.333, 0.333, 0.333))\n",
    "        Adversaire.append(randomMove(*opponent_strategy))\n",
    "    \n",
    "    \n",
    "    t = 0\n",
    "    \n",
    "    while (t < time):\n",
    "        Moi.append(apprentissage(epsilon, Moi, Adversaire))\n",
    "        Adversaire.append(randomMove(*opponent_strategy))\n",
    "        t+= 1\n",
    "    return Moi, Adversaire"
   ]
  },
  {
   "cell_type": "code",
   "execution_count": 224,
   "metadata": {},
   "outputs": [],
   "source": [
    "def parties_gagnees(X,Y):\n",
    "# This part is the post processing of the simulated games from the above function\n",
    "\n",
    "# Input:\n",
    "#      X: list, the plays made by our algorithm\n",
    "#      Y: list, the plays made by our opponent\n",
    "\n",
    "# Output:\n",
    "#      String: describes the results of the match\n",
    "\n",
    "\n",
    "#######################\n",
    "\n",
    "\n",
    "    X_gagne = 0\n",
    "    X_perd = 0\n",
    "    nul = 0\n",
    "    victoires, defaites, egalites = [], [], []\n",
    "    a,b = outcome(X,Y)\n",
    "    result = ['nul', 'gagne', 'perd']\n",
    "    \n",
    "    game_evolution = []\n",
    "    \n",
    "    for i in range (len(X)):\n",
    "        res = result[ (convert_to_number(X[i]) - convert_to_number(Y[i])) % 3 ]\n",
    "        game_evolution.append(res)\n",
    "        if res == 'nul':\n",
    "            nul +=1\n",
    "            \n",
    "        elif res == 'gagne':\n",
    "            X_gagne += 1\n",
    "            \n",
    "        else:\n",
    "            X_perd += 1\n",
    "            \n",
    "        victoires.append(X_gagne)\n",
    "        defaites.append(X_perd)\n",
    "        egalites.append(nul)\n",
    "    \n",
    "    plt.plot(victoires, label = 'victoires')\n",
    "    plt.plot(defaites, label = 'défaites')\n",
    "    plt.plot(egalites, label = 'égalités')\n",
    "    plt.xlabel(\"nombre de parties\")\n",
    "    plt.legend()\n",
    "    \n",
    "    return(\"Notre algo gagne {} fois, perd {} fois et fait égalité {} fois\".format(X_gagne, X_perd, nul))\n",
    "\n",
    "\n",
    "def convert_to_number(L):\n",
    "    if (L == [1,0,0]):\n",
    "        return 1\n",
    "    \n",
    "    elif (L == [0,1,0]):\n",
    "        return 2\n",
    "    \n",
    "    else:\n",
    "        return 3\n",
    "    \n"
   ]
  },
  {
   "cell_type": "code",
   "execution_count": 222,
   "metadata": {},
   "outputs": [],
   "source": [
    "Moi, Adversaire = simulateGame(5000, [0.4, 0.3, 0.3])"
   ]
  },
  {
   "cell_type": "code",
   "execution_count": 225,
   "metadata": {},
   "outputs": [
    {
     "data": {
      "text/plain": [
       "'Notre algo gagne 1708 fois, perd 1577 fois et fait égalité 1718 fois'"
      ]
     },
     "execution_count": 225,
     "metadata": {},
     "output_type": "execute_result"
    },
    {
     "data": {
      "image/png": "[encoded data removed]",
      "text/plain": [
       "<Figure size 432x288 with 1 Axes>"
      ]
     },
     "metadata": {
      "needs_background": "light"
     },
     "output_type": "display_data"
    }
   ],
   "source": [
    "parties_gagnees(Moi, Adversaire)"
   ]
  },
  {
   "cell_type": "code",
   "execution_count": null,
   "metadata": {},
   "outputs": [],
   "source": []
  }
 ],
 "metadata": {
  "kernelspec": {
   "display_name": "Python 3",
   "language": "python",
   "name": "python3"
  },
  "language_info": {
   "codemirror_mode": {
    "name": "ipython",
    "version": 3
   },
   "file_extension": ".py",
   "mimetype": "text/x-python",
   "name": "python",
   "nbconvert_exporter": "python",
   "pygments_lexer": "ipython3",
   "version": "3.7.4"
  }
 },
 "nbformat": 4,
 "nbformat_minor": 2
}
