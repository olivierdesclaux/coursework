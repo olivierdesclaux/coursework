{
 "cells": [
  {
   "cell_type": "code",
   "execution_count": 1,
   "metadata": {},
   "outputs": [],
   "source": [
    "import numpy as np\n",
    "import random\n",
    "import matplotlib.pyplot as plt\n",
    "import pandas as pd"
   ]
  },
  {
   "cell_type": "markdown",
   "metadata": {},
   "source": [
    "# Question 1"
   ]
  },
  {
   "cell_type": "markdown",
   "metadata": {},
   "source": [
    "Si beta = 0, alors on va prendre une valeure suivante qui maximise V à chaque fois que \"possible\" (d'après l'algorithme). On ne trouvera alors surement pas de minimum ou difficilement.\n",
    "\n",
    "Au contraire, si beta = 1, on ne va jamais changer de zone, donc on trouvera un minimum, mais pas forcément le minimum global. "
   ]
  },
  {
   "cell_type": "markdown",
   "metadata": {},
   "source": [
    "# Question 2"
   ]
  },
  {
   "cell_type": "code",
   "execution_count": null,
   "metadata": {},
   "outputs": [],
   "source": []
  },
  {
   "cell_type": "markdown",
   "metadata": {},
   "source": [
    "# Question 3"
   ]
  },
  {
   "cell_type": "code",
   "execution_count": null,
   "metadata": {},
   "outputs": [],
   "source": [
    "k = 40\n",
    "E = np.arange(1,k+1,1)"
   ]
  },
  {
   "cell_type": "code",
   "execution_count": null,
   "metadata": {},
   "outputs": [],
   "source": [
    "def V(x):\n",
    "    return np.cos(4*np.pi*x/k) - np.sqrt(4*np.pi * x / k)"
   ]
  },
  {
   "cell_type": "code",
   "execution_count": null,
   "metadata": {},
   "outputs": [],
   "source": [
    "X = np.linspace(0,100, 1000)\n",
    "Y = V(X)"
   ]
  },
  {
   "cell_type": "code",
   "execution_count": null,
   "metadata": {},
   "outputs": [],
   "source": [
    "def algo(T, beta, X0):\n",
    "    S = []\n",
    "    t= 0\n",
    "#     X = random.choice(E)\n",
    "    X = X0\n",
    "    while (t < T):\n",
    "        next_ = chose_neighbour(X)\n",
    "        if (V(next_) < V(X)):\n",
    "            X = next_\n",
    "        else:\n",
    "            seuil = random.random()\n",
    "            if (np.exp(beta * (V(X) - V(next_))) > seuil):\n",
    "                X = next_\n",
    "            else:\n",
    "                X = X\n",
    "        t +=1\n",
    "        S.append(X)\n",
    "    \n",
    "    return S\n",
    "\n",
    "\n",
    "def chose_neighbour(i):\n",
    "    if (i ==1):\n",
    "        return 2\n",
    "    \n",
    "    if (i ==k):\n",
    "        return k-1\n",
    "    else:\n",
    "        value = random.choice([i - 1, i+1])\n",
    "        return value"
   ]
  },
  {
   "cell_type": "code",
   "execution_count": null,
   "metadata": {
    "scrolled": true
   },
   "outputs": [],
   "source": [
    "res = algo(3000, 0.9, X0 = 15)\n",
    "res =  [V(x) for x in res]\n",
    "\n",
    "plt.plot(np.linspace(0,3000,3000), res)"
   ]
  },
  {
   "cell_type": "markdown",
   "metadata": {},
   "source": [
    "# 2. Application au voyageur de commerce"
   ]
  },
  {
   "cell_type": "markdown",
   "metadata": {},
   "source": [
    "# Question 4"
   ]
  },
  {
   "cell_type": "code",
   "execution_count": 9,
   "metadata": {},
   "outputs": [],
   "source": [
    "def EchangerDeuxVilles(Coordonnees, i, j):\n",
    "    min_ = min(i,j)\n",
    "    max_ = max(i,j)\n",
    "    L = []\n",
    "    for k in range (len(Coordonnees)):\n",
    "        if ((k !=i) and (k !=j)):\n",
    "            L.append(Coordonnees[k])\n",
    "        \n",
    "        elif (k == min_):\n",
    "            L.append(Coordonnees[max_])\n",
    "            \n",
    "        elif (k == max_):\n",
    "            L.append(Coordonnees[min_])\n",
    "            \n",
    "    return L\n",
    "\n"
   ]
  },
  {
   "cell_type": "code",
   "execution_count": 7,
   "metadata": {},
   "outputs": [],
   "source": [
    "def Longueur(Coordonnees):\n",
    "    l = 0\n",
    "    for i in range (len(Coordonnees) - 1):\n",
    "        l += np.sqrt((Coordonnees[i+1][0] - Coordonnees[i][0]) ** 2 + (Coordonnees[i+1][1] - Coordonnees[i][1]) **2 )\n",
    "        \n",
    "    return l"
   ]
  },
  {
   "cell_type": "markdown",
   "metadata": {},
   "source": [
    "# Question 5"
   ]
  },
  {
   "cell_type": "code",
   "execution_count": 2,
   "metadata": {},
   "outputs": [],
   "source": [
    "Coordonnees_PaysMystere = pd.read_excel('PaysMystere.xls').values"
   ]
  },
  {
   "cell_type": "code",
   "execution_count": null,
   "metadata": {},
   "outputs": [],
   "source": [
    "def Metropolis_Hastings(T, beta,  Coordonnees):\n",
    "    S = []\n",
    "    n = len(Coordonnees)\n",
    "    t= 0\n",
    "#     X = random.choice(E)\n",
    "    Coordonnees_t = Coordonnees\n",
    "    \n",
    "    while (t < T):\n",
    "        i,j = random.randint(0,n-1), random.randint(0,n-1)\n",
    "        next_coordinates = EchangerDeuxVilles(Coordonnees_t, i,j)\n",
    "        \n",
    "        \n",
    "        if (Longueur(next_coordinates) < Longueur(Coordonnees_t)):\n",
    "            Coordonnees_t = next_coordinates\n",
    "        \n",
    "        else:\n",
    "            seuil = random.random()\n",
    "            if (np.exp(beta * (Longueur(Coordonnees_t) - Longueur(next_coordinates))) > seuil):\n",
    "                Coordonnees_t = next_coordinates\n",
    "            else:\n",
    "                Coordonnees_t = Coordonnees_t \n",
    "        t +=1\n",
    "        S.append(Coordonnees_t)\n",
    "    \n",
    "#     return Coordonnees_t\n",
    "    return S\n",
    "    "
   ]
  },
  {
   "cell_type": "code",
   "execution_count": null,
   "metadata": {
    "scrolled": true
   },
   "outputs": [],
   "source": [
    "result = Metropolis_Hastings(50000, 2, Coordonnees_PaysMystere)\n",
    "length_through_time = [Longueur(x) for x in result]\n",
    "\n",
    "plt.plot(np.linspace(0,50000,50000), length_through_time)\n"
   ]
  },
  {
   "cell_type": "code",
   "execution_count": null,
   "metadata": {},
   "outputs": [],
   "source": [
    "plt.plot([x[0] for x in result[-1]], [x[1] for x in result[-1]])"
   ]
  },
  {
   "cell_type": "code",
   "execution_count": null,
   "metadata": {},
   "outputs": [],
   "source": [
    "Longueur(result[-1])"
   ]
  },
  {
   "cell_type": "markdown",
   "metadata": {},
   "source": [
    "# Le Voyageur de Commerce - Optimisation ? "
   ]
  },
  {
   "cell_type": "code",
   "execution_count": 3,
   "metadata": {},
   "outputs": [],
   "source": [
    "def get_max_distance_cities(Coordonnees):\n",
    "    a, b = Coordonnees[0], Coordonnees[1]\n",
    "    l = Longueur([a,b])\n",
    "    k=0\n",
    "    for i in range (len(Coordonnees) - 1):\n",
    "        new_l = Longueur([Coordonnees[i], Coordonnees[i+1]])\n",
    "        if  new_l > l:\n",
    "            a,b = Coordonnees[i], Coordonnees[i+1]\n",
    "            l = new_l\n",
    "            k=i\n",
    "    \n",
    "    return k, k+1"
   ]
  },
  {
   "cell_type": "code",
   "execution_count": null,
   "metadata": {},
   "outputs": [],
   "source": [
    "get_max_distance_cities([[0,0], [0,0], [0,0], [0,0], [0,1], [0,0]])"
   ]
  },
  {
   "cell_type": "code",
   "execution_count": 4,
   "metadata": {},
   "outputs": [],
   "source": [
    "def Metropolis_Hastings_optim(T, beta,  Coordonnees):\n",
    "    S = []\n",
    "    n = len(Coordonnees)\n",
    "    t= 0\n",
    "#     X = random.choice(E)\n",
    "    Coordonnees_t = Coordonnees\n",
    "    \n",
    "    while (t < T):\n",
    "        i,j = get_max_distance_cities(Coordonnees_t)\n",
    "        k = get_closest_city(Coordonnees_t, i)\n",
    "        \n",
    "        next_coordinates = EchangerDeuxVilles(Coordonnees_t, i,k)\n",
    "        \n",
    "        \n",
    "        if (Longueur(next_coordinates) < Longueur(Coordonnees_t)):\n",
    "            Coordonnees_t = next_coordinates\n",
    "        \n",
    "        else:\n",
    "            seuil = random.random()\n",
    "            if (np.exp(beta * (Longueur(Coordonnees_t) - Longueur(next_coordinates))) > seuil):\n",
    "                Coordonnees_t = next_coordinates\n",
    "            else:\n",
    "                Coordonnees_t = Coordonnees_t \n",
    "        t +=1\n",
    "        S.append(Coordonnees_t)\n",
    "    \n",
    "#     return Coordonnees_t\n",
    "    return S\n",
    "    "
   ]
  },
  {
   "cell_type": "code",
   "execution_count": 5,
   "metadata": {},
   "outputs": [],
   "source": [
    "def get_closest_city(Coordonnees, i):\n",
    "    city = Coordonnees[i]\n",
    "    lmin = 0\n",
    "    j = 0\n",
    "    for k in range (len(Coordonnees)):\n",
    "        if (k != i):\n",
    "            l = Longueur([Coordonnees[i], Coordonnees[k]])\n",
    "            if l < lmin:\n",
    "                l = lmin\n",
    "                j = k\n",
    "                \n",
    "    return k"
   ]
  },
  {
   "cell_type": "code",
   "execution_count": 10,
   "metadata": {},
   "outputs": [
    {
     "data": {
      "text/plain": [
       "[<matplotlib.lines.Line2D at 0x1d67fd5f488>]"
      ]
     },
     "execution_count": 10,
     "metadata": {},
     "output_type": "execute_result"
    },
    {
     "data": {
      "image/png": "[encoded data removed]",
      "text/plain": [
       "<Figure size 432x288 with 1 Axes>"
      ]
     },
     "metadata": {
      "needs_background": "light"
     },
     "output_type": "display_data"
    }
   ],
   "source": [
    "result_opt = Metropolis_Hastings_optim(500, 2, Coordonnees_PaysMystere)\n",
    "length_through_time_optim = [Longueur(x) for x in result_opt]\n",
    "\n",
    "plt.plot(np.linspace(0,500, 500), length_through_time_optim)"
   ]
  },
  {
   "cell_type": "code",
   "execution_count": null,
   "metadata": {},
   "outputs": [],
   "source": [
    "plt.plot([x[0] for x in result[-1]], [x[1] for x in result_opt[-1]])"
   ]
  },
  {
   "cell_type": "code",
   "execution_count": null,
   "metadata": {},
   "outputs": [],
   "source": [
    "length_through_time_optim"
   ]
  },
  {
   "cell_type": "code",
   "execution_count": null,
   "metadata": {},
   "outputs": [],
   "source": []
  }
 ],
 "metadata": {
  "kernelspec": {
   "display_name": "Python 3",
   "language": "python",
   "name": "python3"
  },
  "language_info": {
   "codemirror_mode": {
    "name": "ipython",
    "version": 3
   },
   "file_extension": ".py",
   "mimetype": "text/x-python",
   "name": "python",
   "nbconvert_exporter": "python",
   "pygments_lexer": "ipython3",
   "version": "3.7.4"
  }
 },
 "nbformat": 4,
 "nbformat_minor": 2
}
