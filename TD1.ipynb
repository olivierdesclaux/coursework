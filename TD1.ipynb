{
 "cells": [
  {
   "cell_type": "markdown",
   "metadata": {},
   "source": [
    "# MAP572 - TD1"
   ]
  },
  {
   "cell_type": "markdown",
   "metadata": {},
   "source": [
    "This lab's aim is to solve numerically systems of linear equations. In a first part we use an LU decomposition, in a second part we look into gradient descent, and try to optimise how we take our \"step\"."
   ]
  },
  {
   "cell_type": "code",
   "execution_count": 1,
   "metadata": {},
   "outputs": [],
   "source": [
    "import numpy as np\n",
    "import scipy.sparse as sparse\n",
    "import sys\n",
    "import time\n",
    "import matplotlib.pyplot as plt"
   ]
  },
  {
   "cell_type": "code",
   "execution_count": 2,
   "metadata": {},
   "outputs": [],
   "source": [
    "def triangulaireSup(L,b):\n",
    "#  This algorithm solves a linear system with an upper triangular matrix. We are looking for x such that L * x = b\n",
    "\n",
    "# Input:\n",
    "#      L is an upper triangular matrix of size n*n\n",
    "#      b is a vector of size n\n",
    "\n",
    "# Output:\n",
    "#      vector x of size n\n",
    "\n",
    "############################\n",
    "\n",
    "\n",
    "    n = len(b)\n",
    "    x = np.zeros(n)\n",
    "    for i in range(1,n+1):\n",
    "        if L[n-i][n-i] == 0:\n",
    "            return \"Erreur, 0 sur la diagonale à la ligne {}\".format(n-i) # make sure our matrix has no 0s on its diagonal\n",
    "    \n",
    "        else:\n",
    "            x[n-i] = (b[n-i] - np.dot(L[n-i][n-i+1:], x[n-i+1:]))/L[n-i][n-i] #calculate x[n-i] depending on all the previous terms calculated\n",
    "    return x\n"
   ]
  },
  {
   "cell_type": "code",
   "execution_count": 3,
   "metadata": {},
   "outputs": [],
   "source": [
    "S = np.array([[1,2,3],[0,1,2],[0,0,1]])\n",
    "b = np.array([3,2,1])"
   ]
  },
  {
   "cell_type": "code",
   "execution_count": 4,
   "metadata": {},
   "outputs": [
    {
     "data": {
      "text/plain": [
       "array([0., 0., 1.])"
      ]
     },
     "execution_count": 4,
     "metadata": {},
     "output_type": "execute_result"
    }
   ],
   "source": [
    "triangulaireSup(S,b)"
   ]
  },
  {
   "cell_type": "code",
   "execution_count": 5,
   "metadata": {},
   "outputs": [],
   "source": [
    "def triangulaireInf(L,b):\n",
    "#  This algorithm solves a linear system with a lower triangular matrix. We are looking for x such that L * x = b\n",
    "\n",
    "# Input:\n",
    "#      L is a lower triangular matrix of size n*n\n",
    "#      b is a vector of size n\n",
    "\n",
    "# Output:\n",
    "#      vector x of size n\n",
    "\n",
    "############################\n",
    "\n",
    "    n = len(b)\n",
    "    x = np.zeros(n)\n",
    "    for i in range(0,n):\n",
    "        if L[i][i] == 0:\n",
    "            return \"Erreur, 0 sur la diagonale à la ligne {}\".format(i) # make sure our matrix has no 0s on its diagonal\n",
    "    \n",
    "        else:\n",
    "            x[i] = (b[i] - np.dot(L[i][:i], x[:i]))/L[i][i] #calculate x[ni] depending on all the previous terms calculated\n",
    "    return x"
   ]
  },
  {
   "cell_type": "code",
   "execution_count": 6,
   "metadata": {},
   "outputs": [],
   "source": [
    "I = np.array([[0.5,0,0],[1,2,0],[1,2,3]])"
   ]
  },
  {
   "cell_type": "code",
   "execution_count": 7,
   "metadata": {},
   "outputs": [
    {
     "data": {
      "text/plain": [
       "3"
      ]
     },
     "execution_count": 7,
     "metadata": {},
     "output_type": "execute_result"
    }
   ],
   "source": [
    "S.shape[0]"
   ]
  },
  {
   "cell_type": "code",
   "execution_count": 8,
   "metadata": {},
   "outputs": [],
   "source": [
    "def factLU(A):\n",
    "# This algorithm does the LU decomposition of a given matrix\n",
    "\n",
    "# Input:\n",
    "#      A is a square matrix of size n\n",
    "\n",
    "# Output:\n",
    "#       U is an upper triangular matrix of size n\n",
    "#       L is a lower triangular matrix of size n\n",
    "\n",
    "###############################################\n",
    "\n",
    "\n",
    "    n=np.shape(A)[0]\n",
    "    L = np.identity(n)\n",
    "    U = np.zeros(shape=(n,n))\n",
    "    \n",
    "    \n",
    "    for i in range(0, n-1):\n",
    "        for j in range(i+1, n):\n",
    "            L[j,i] = A[j,i]/A[i,i]\n",
    "            \n",
    "            for k in range(i + 1, n):\n",
    "                A[j:k] -= L[j, i] * U[i, k]\n",
    "                \n",
    "        for j in range(i, n):\n",
    "            U[i,j] = A[i,j]\n",
    "            \n",
    "    U[-1,-1] = A[-1,-1]\n",
    "    \n",
    "    return L, U"
   ]
  },
  {
   "cell_type": "code",
   "execution_count": 9,
   "metadata": {},
   "outputs": [
    {
     "data": {
      "text/plain": [
       "(array([[1., 0., 0.],\n",
       "        [2., 1., 0.],\n",
       "        [2., 1., 1.]]), array([[0.5, 0. , 0. ],\n",
       "        [0. , 2. , 0. ],\n",
       "        [0. , 0. , 3. ]]))"
      ]
     },
     "execution_count": 9,
     "metadata": {},
     "output_type": "execute_result"
    }
   ],
   "source": [
    "factLU(I)"
   ]
  },
  {
   "cell_type": "markdown",
   "metadata": {},
   "source": [
    "# Matrices creuses"
   ]
  },
  {
   "cell_type": "markdown",
   "metadata": {},
   "source": [
    "Here we will look at sparse matrixes. We will look at how their sparcity impacts computation time, memory, etc."
   ]
  },
  {
   "cell_type": "code",
   "execution_count": 10,
   "metadata": {},
   "outputs": [],
   "source": [
    "def matriceCreuse(N, d):\n",
    "    \n",
    "# Algorithm that creates a random sparse matrix using built-in sparse library\n",
    "\n",
    "# Input:\n",
    "#      N is the wanted size\n",
    "#      d is the density of the wanted matrix \n",
    "\n",
    "#  Output:\n",
    "#      A random sparse matrix of size N*N and with a density of d\n",
    "\n",
    "#####################\n",
    "\n",
    "\n",
    "    matrix = sparse.rand(N,N, density = d)\n",
    "    return matrix\n",
    "   "
   ]
  },
  {
   "cell_type": "code",
   "execution_count": 11,
   "metadata": {},
   "outputs": [],
   "source": [
    "def espaceDeStockage(N):\n",
    "\n",
    "# Algorithm that compares the memory space for a regular matrix compared to a sparse one with same size\n",
    "\n",
    "# Input:\n",
    "#      N, size of the matrix\n",
    "\n",
    "# Output:\n",
    "#      String comparing both sizes\n",
    "\n",
    "########################################\n",
    "\n",
    "\n",
    "    A = np.array((N,N))\n",
    "    taillePleine = sys.getsizeof(A)\n",
    "    \n",
    "    B = sparse.rand(N,N, density = 0.01)\n",
    "    tailleCreuse = sys.getsizeof(B)\n",
    "    \n",
    "    return( \"tailleCreuse = {}, taillePleine = {}\".format(tailleCreuse, taillePleine))\n",
    "\n"
   ]
  },
  {
   "cell_type": "code",
   "execution_count": 12,
   "metadata": {},
   "outputs": [
    {
     "data": {
      "text/plain": [
       "'tailleCreuse = 56, taillePleine = 104'"
      ]
     },
     "execution_count": 12,
     "metadata": {},
     "output_type": "execute_result"
    }
   ],
   "source": [
    "espaceDeStockage(100)"
   ]
  },
  {
   "cell_type": "code",
   "execution_count": 22,
   "metadata": {},
   "outputs": [],
   "source": [
    "def comparaisonDesTemps():\n",
    "#     In this section, we look at the computation time when doing three different operations:\n",
    "# - multiplying two matrixes\n",
    "# - multiplying a matrix and a vector\n",
    "# - multiplying a sparse matrix and a vector\n",
    "\n",
    "# In order to get the time needed for the computation, we look at the absolute time before the operation and after the operation\n",
    "# and take the difference. Each function below corresponds to the situations described above.\n",
    "\n",
    "# The matrixes and vectors used are defined in the cell below\n",
    "\n",
    "################################\n",
    "\n",
    "\n",
    "    print(\"Matrice * Matrice = {} s\".format(tempsMatriceMatrice()))\n",
    "    print(\"Matrice * Vecteur = {} s\".format(tempsMatriceVecteur()))\n",
    "    print(\"Creuse * Vecteur = {} s\".format(tempsCreuseVecteur()))\n",
    "\n",
    "def tempsMatriceMatrice():\n",
    "    t0 = time.time()\n",
    "    A.dot(B)\n",
    "    t1 = time.time()\n",
    "    return t1-t0\n",
    "\n",
    "def tempsMatriceVecteur():\n",
    "    t0 = time.time()\n",
    "    A.dot(vecteur)\n",
    "    t1 = time.time()\n",
    "    return t1-t0\n",
    "\n",
    "def tempsCreuseVecteur():\n",
    "    t0 = time.time()\n",
    "    matrix.dot(vecteur)\n",
    "    t1 = time.time()\n",
    "    return t1-t0"
   ]
  },
  {
   "cell_type": "code",
   "execution_count": 27,
   "metadata": {},
   "outputs": [],
   "source": [
    "A = np.random.rand(5000,5000)\n",
    "B = np.random.rand(5000,5000)\n",
    "vecteur = np.random.rand(5000)\n",
    "matrix = sparse.rand(5000, 5000, 0.001)"
   ]
  },
  {
   "cell_type": "code",
   "execution_count": 28,
   "metadata": {},
   "outputs": [
    {
     "name": "stdout",
     "output_type": "stream",
     "text": [
      "Matrice * Matrice = 2.733672618865967 s\n",
      "Matrice * Vecteur = 0.010290861129760742 s\n",
      "Creuse * Vecteur = 0.0030236244201660156 s\n"
     ]
    }
   ],
   "source": [
    "comparaisonDesTemps()"
   ]
  },
  {
   "cell_type": "markdown",
   "metadata": {},
   "source": [
    "We can observe that the third operation goes roughly ten times faster than the second. the use of sparse matrixes seems to be useful in order to gain  computation time."
   ]
  },
  {
   "cell_type": "markdown",
   "metadata": {},
   "source": [
    "# Methodes de type gradient"
   ]
  },
  {
   "cell_type": "markdown",
   "metadata": {},
   "source": [
    "In this part, we will consider a sparse matrix A. We try to solve the equation A * x = b by different methods of gradient descent. "
   ]
  },
  {
   "cell_type": "code",
   "execution_count": 42,
   "metadata": {},
   "outputs": [],
   "source": [
    "def GPF(A,b, tol, alpha, itermax, x0):\n",
    "# First algorithm uses graient descent with a constant step alpha\n",
    "\n",
    "#Input:\n",
    "#     A: a sparse matrix of size n*n\n",
    "#     b: a vector of size n\n",
    "#     tol: a float which represents our tolerance\n",
    "#     alpha: our step, float\n",
    "#     x0: a vector of size n, our starting point for finding x\n",
    "\n",
    "#Output:\n",
    "#    x: the last vector found before we either go below our tolerance, or go above the max iterations we gave\n",
    "#    iterations: if we arrive below tolerance, the number of iterations that were necessary. Otherwise, itermax\n",
    "\n",
    "\n",
    "    r = b - A.dot(x0)\n",
    "    x = x0 + alpha*r\n",
    "    iterations = 0\n",
    "    while (np.linalg.norm(r) > tol):\n",
    "        if (iterations > itermax):\n",
    "            print(\"Max iterations overflow\")\n",
    "            return x, iterations\n",
    "        \n",
    "        r = b - A.dot(x)\n",
    "        x = x + alpha * r\n",
    "        iterations +=1\n",
    "    \n",
    "    return x, iterations"
   ]
  },
  {
   "cell_type": "code",
   "execution_count": 47,
   "metadata": {},
   "outputs": [
    {
     "name": "stdout",
     "output_type": "stream",
     "text": [
      "  (8, 8)\t0.5286843024355987\n",
      "  (4, 2)\t0.5852939245431306\n",
      "  (2, 5)\t0.4742558623220301\n",
      "  (6, 2)\t0.33803209525476285\n",
      "  (9, 6)\t0.8712265094209549\n",
      "  (4, 4)\t0.47317249364849623\n",
      "  (6, 6)\t0.302249184595323\n",
      "  (0, 4)\t0.5179733979891215\n",
      "  (4, 6)\t0.23479250349674108\n",
      "  (8, 2)\t0.03786691481058169\n"
     ]
    }
   ],
   "source": [
    "sparse_matrix = sparse.rand(10, 10, 0.1)\n",
    "print(sparse_matrix)"
   ]
  },
  {
   "cell_type": "code",
   "execution_count": 45,
   "metadata": {},
   "outputs": [
    {
     "name": "stdout",
     "output_type": "stream",
     "text": [
      "Max iterations overflow\n"
     ]
    },
    {
     "data": {
      "text/plain": [
       "(array([  6.002     ,   6.002     ,   6.002     ,   1.94837548,\n",
       "          4.09153901,   4.73040051, -10.20796342,   6.002     ,\n",
       "          4.50949089,  -7.07192677]), 5001)"
      ]
     },
     "execution_count": 45,
     "metadata": {},
     "output_type": "execute_result"
    }
   ],
   "source": [
    "GPF(sparse_matrix, np.ones(10), 0.001, 0.001, 5000, np.ones(10))"
   ]
  },
  {
   "cell_type": "code",
   "execution_count": 17,
   "metadata": {},
   "outputs": [],
   "source": [
    "def nombreIterations():\n",
    "    X=[]\n",
    "    Y=[]\n",
    "    for alpha in np.arange(0.0001, 0.1, 0.001):\n",
    "        X.append(alpha)\n",
    "        Y.append(GPF(np.ones((3,3)), [5,4,1], 0.001, alpha, 100000, np.ones(3))[1])\n",
    "        \n",
    "    plt.plot(X,Y)\n",
    "    plt.xscale(\"log\")\n",
    "    plt.xlabel(\"alpha - logscale\")\n",
    "    plt.ylabel(\"iterations\")"
   ]
  },
  {
   "cell_type": "code",
   "execution_count": 18,
   "metadata": {},
   "outputs": [],
   "source": [
    "def GPO(A, b, tol, itermax, x0):\n",
    "    r = b - np.dot(A,x0)\n",
    "    alpha = np.dot(r,r)/np.dot(np.dot(A,r), r)\n",
    "    x = x0 + alpha*r\n",
    "    iterations = 0\n",
    "    while (np.linalg.norm(r) > tol):\n",
    "        if (iterations > itermax):\n",
    "            print(\"Max iterations overflow\")\n",
    "            return x, iterations\n",
    "        \n",
    "        r = b-np.dot(A,x)\n",
    "        alpha = np.dot(r,r)/np.dot(np.dot(A,r), r)\n",
    "        x = x + alpha * r\n",
    "        iterations +=1\n",
    "    \n",
    "    return x, iterations"
   ]
  },
  {
   "cell_type": "code",
   "execution_count": 25,
   "metadata": {},
   "outputs": [
    {
     "name": "stdout",
     "output_type": "stream",
     "text": [
      "Max iterations overflow\n"
     ]
    },
    {
     "data": {
      "text/plain": [
       "(array([ 8104.24000003, -4050.62000002, -4050.62000002]), 5001)"
      ]
     },
     "execution_count": 25,
     "metadata": {},
     "output_type": "execute_result"
    }
   ],
   "source": [
    "GPO(np.ones((3,3)), [2,1,1], 0.001, 5000, np.ones(3))"
   ]
  },
  {
   "cell_type": "code",
   "execution_count": null,
   "metadata": {},
   "outputs": [],
   "source": [
    "aefi,ozc\n",
    "cizneo"
   ]
  },
  {
   "cell_type": "code",
   "execution_count": null,
   "metadata": {},
   "outputs": [],
   "source": []
  }
 ],
 "metadata": {
  "kernelspec": {
   "display_name": "Python 3",
   "language": "python",
   "name": "python3"
  },
  "language_info": {
   "codemirror_mode": {
    "name": "ipython",
    "version": 3
   },
   "file_extension": ".py",
   "mimetype": "text/x-python",
   "name": "python",
   "nbconvert_exporter": "python",
   "pygments_lexer": "ipython3",
   "version": "3.7.4"
  }
 },
 "nbformat": 4,
 "nbformat_minor": 2
}
