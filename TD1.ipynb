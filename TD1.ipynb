{
 "cells": [
  {
   "cell_type": "markdown",
   "metadata": {},
   "source": [
    "# MAP572 - TD1"
   ]
  },
  {
   "cell_type": "markdown",
   "metadata": {},
   "source": [
    "This lab's aim is to solve numerically systems of linear equations. In a first part we use an LU decomposition, in a second part we look into gradient descent, and try to optimise how we take our \"step\"."
   ]
  },
  {
   "cell_type": "code",
   "execution_count": 1,
   "metadata": {},
   "outputs": [],
   "source": [
    "import numpy as np\n",
    "import scipy.sparse as sparse\n",
    "import sys\n",
    "import time\n",
    "import matplotlib.pyplot as plt"
   ]
  },
  {
   "cell_type": "code",
   "execution_count": 2,
   "metadata": {},
   "outputs": [],
   "source": [
    "def triangulaireSup(L,b):\n",
    "    n = len(b)\n",
    "    x = np.zeros(n)\n",
    "    for i in range(1,n+1):\n",
    "        if L[n-i][n-i] == 0:\n",
    "            return \"Erreur, 0 sur la diagonale à la ligne {}\".format(n-i)\n",
    "    \n",
    "        else:\n",
    "            x[n-i] = (b[n-i] - np.dot(L[n-i][n-i+1:], x[n-i+1:]))/L[n-i][n-i]\n",
    "    return x\n"
   ]
  },
  {
   "cell_type": "code",
   "execution_count": 3,
   "metadata": {},
   "outputs": [],
   "source": [
    "S = np.array([[1,2,3],[0,1,2],[0,0,1]])\n",
    "b = np.array([3,2,1])"
   ]
  },
  {
   "cell_type": "code",
   "execution_count": 4,
   "metadata": {},
   "outputs": [
    {
     "data": {
      "text/plain": [
       "array([0., 0., 1.])"
      ]
     },
     "execution_count": 4,
     "metadata": {},
     "output_type": "execute_result"
    }
   ],
   "source": [
    "triangulaireSup(S,b)"
   ]
  },
  {
   "cell_type": "code",
   "execution_count": 5,
   "metadata": {},
   "outputs": [],
   "source": [
    "def triangulaireInf(L,b):\n",
    "    n = len(b)\n",
    "    x = np.zeros(n)\n",
    "    for i in range(0,n):\n",
    "        if L[i][i] == 0:\n",
    "            return \"Erreur, 0 sur la diagonale à la ligne {}\".format(i)\n",
    "    \n",
    "        else:\n",
    "            x[i] = (b[i] - np.dot(L[i][:i], x[:i]))/L[i][i]\n",
    "    return x"
   ]
  },
  {
   "cell_type": "code",
   "execution_count": 6,
   "metadata": {},
   "outputs": [],
   "source": [
    "I = np.array([[0.5,0,0],[1,2,0],[1,2,3]])"
   ]
  },
  {
   "cell_type": "code",
   "execution_count": 7,
   "metadata": {},
   "outputs": [
    {
     "data": {
      "text/plain": [
       "3"
      ]
     },
     "execution_count": 7,
     "metadata": {},
     "output_type": "execute_result"
    }
   ],
   "source": [
    "S.shape[0]"
   ]
  },
  {
   "cell_type": "code",
   "execution_count": 8,
   "metadata": {},
   "outputs": [],
   "source": [
    "def factLU(A):\n",
    "    n=np.shape(A)[0]\n",
    "    L = np.identity(n)\n",
    "    U = np.zeros(shape=(n,n))\n",
    "    for i in range(0, n-1):\n",
    "        for j in range(i+1, n):\n",
    "            L[j,i] = A[j,i]/A[i,i]\n",
    "            for k in range(i + 1, n):\n",
    "                A[j:k] -= L[j, i] * U[i, k]\n",
    "        for j in range(i, n):\n",
    "            U[i,j] = A[i,j]\n",
    "    U[-1,-1] = A[-1,-1]\n",
    "    return L, U"
   ]
  },
  {
   "cell_type": "code",
   "execution_count": 9,
   "metadata": {},
   "outputs": [
    {
     "data": {
      "text/plain": [
       "(array([[1., 0., 0.],\n",
       "        [1., 1., 0.],\n",
       "        [1., 1., 1.]]), array([[1., 1., 1.],\n",
       "        [0., 1., 1.],\n",
       "        [0., 0., 1.]]))"
      ]
     },
     "execution_count": 9,
     "metadata": {},
     "output_type": "execute_result"
    }
   ],
   "source": [
    "factLU(np.ones((3,3)))\n",
    "# factLU(S)"
   ]
  },
  {
   "cell_type": "markdown",
   "metadata": {},
   "source": [
    "# Matrices creuses"
   ]
  },
  {
   "cell_type": "code",
   "execution_count": 10,
   "metadata": {},
   "outputs": [],
   "source": [
    "def matriceCreuse(N, d):\n",
    "    matrix = sparse.rand(N,N, density = d)\n",
    "    return matrix\n",
    "   "
   ]
  },
  {
   "cell_type": "code",
   "execution_count": 11,
   "metadata": {},
   "outputs": [],
   "source": [
    "def espaceDeStockage(N):\n",
    "    A = np.array((N,N))\n",
    "    taillePleine = sys.getsizeof(A)\n",
    "    \n",
    "    B = sparse.rand(N,N, density = 0.01)\n",
    "    tailleCreuse = sys.getsizeof(B)\n",
    "    \n",
    "    return( \"tailleCreuse = {}, taillePleine = {}\".format(tailleCreuse, taillePleine))\n",
    "\n"
   ]
  },
  {
   "cell_type": "code",
   "execution_count": 12,
   "metadata": {},
   "outputs": [],
   "source": [
    "A = np.random.rand(2000,2000)\n",
    "B = np.random.rand(2000,2000)\n",
    "vecteur = np.random.rand(2000)\n",
    "matrix = sparse.rand(2000, 2000, 0.001)"
   ]
  },
  {
   "cell_type": "code",
   "execution_count": 13,
   "metadata": {},
   "outputs": [],
   "source": [
    "def tempsMatriceMatrice():\n",
    "    t0 = time.time()\n",
    "    np.dot(A,B)\n",
    "#     A*B\n",
    "    t1 = time.time()\n",
    "    return t1-t0\n",
    "\n",
    "def tempsMatriceVecteur():\n",
    "    t0 = time.time()\n",
    "    np.dot(A, vecteur)\n",
    "#     A* vecteur\n",
    "    t1 = time.time()\n",
    "    return t1-t0\n",
    "\n",
    "def tempsCreuseVecteur():\n",
    "    t0 = time.time()\n",
    "    np.dot(matrix, vecteur)\n",
    "#     matrix * vecteur\n",
    "    t1 = time.time()\n",
    "    return t1-t0"
   ]
  },
  {
   "cell_type": "code",
   "execution_count": 14,
   "metadata": {},
   "outputs": [],
   "source": [
    "def comparaisonDesTemps():\n",
    "    print(\"Matrice * Matrice = {} s\".format(tempsMatriceMatrice()))\n",
    "    print(\"Matrice * Vecteur = {} s\".format(tempsMatriceVecteur()))\n",
    "    print(\"Creuse * Vecteur = {} s\".format(tempsCreuseVecteur()))"
   ]
  },
  {
   "cell_type": "code",
   "execution_count": 15,
   "metadata": {},
   "outputs": [
    {
     "name": "stdout",
     "output_type": "stream",
     "text": [
      "Matrice * Matrice = 0.17576026916503906 s\n",
      "Matrice * Vecteur = 0.004988431930541992 s\n",
      "Creuse * Vecteur = 0.2379777431488037 s\n"
     ]
    }
   ],
   "source": [
    "comparaisonDesTemps()"
   ]
  },
  {
   "cell_type": "markdown",
   "metadata": {},
   "source": [
    "# Methodes de type gradient"
   ]
  },
  {
   "cell_type": "code",
   "execution_count": 16,
   "metadata": {},
   "outputs": [
    {
     "data": {
      "text/plain": [
       "(array([333.33314199, 333.33314199, 333.33314199]), 4781)"
      ]
     },
     "execution_count": 16,
     "metadata": {},
     "output_type": "execute_result"
    }
   ],
   "source": [
    "def GPF(A,b, tol, alpha, itermax, x0):\n",
    "    r = b - np.dot(A,x0)\n",
    "    x = x0 + alpha*r\n",
    "    iterations = 0\n",
    "    while (np.linalg.norm(r) > tol):\n",
    "        if (iterations > itermax):\n",
    "            print(\"Max iterations overflow\")\n",
    "            return x, iterations\n",
    "        \n",
    "        r = b-np.dot(A,x)\n",
    "        x = x + alpha * r\n",
    "        iterations +=1\n",
    "    \n",
    "    return x, iterations\n",
    "\n",
    "\n",
    "GPF(np.ones((3,3)), [1000,1000,1000], 0.001, 0.001, 5000, np.ones(3))"
   ]
  },
  {
   "cell_type": "code",
   "execution_count": 17,
   "metadata": {},
   "outputs": [],
   "source": [
    "def nombreIterations():\n",
    "    X=[]\n",
    "    Y=[]\n",
    "    for alpha in np.arange(0.0001, 0.1, 0.001):\n",
    "        X.append(alpha)\n",
    "        Y.append(GPF(np.ones((3,3)), [5,4,1], 0.001, alpha, 100000, np.ones(3))[1])\n",
    "        \n",
    "    plt.plot(X,Y)\n",
    "    plt.xscale(\"log\")\n",
    "    plt.xlabel(\"alpha - logscale\")\n",
    "    plt.ylabel(\"iterations\")"
   ]
  },
  {
   "cell_type": "code",
   "execution_count": 18,
   "metadata": {},
   "outputs": [],
   "source": [
    "def GPO(A, b, tol, itermax, x0):\n",
    "    r = b - np.dot(A,x0)\n",
    "    alpha = np.dot(r,r)/np.dot(np.dot(A,r), r)\n",
    "    x = x0 + alpha*r\n",
    "    iterations = 0\n",
    "    while (np.linalg.norm(r) > tol):\n",
    "        if (iterations > itermax):\n",
    "            print(\"Max iterations overflow\")\n",
    "            return x, iterations\n",
    "        \n",
    "        r = b-np.dot(A,x)\n",
    "        alpha = np.dot(r,r)/np.dot(np.dot(A,r), r)\n",
    "        x = x + alpha * r\n",
    "        iterations +=1\n",
    "    \n",
    "    return x, iterations"
   ]
  },
  {
   "cell_type": "code",
   "execution_count": 25,
   "metadata": {},
   "outputs": [
    {
     "name": "stdout",
     "output_type": "stream",
     "text": [
      "Max iterations overflow\n"
     ]
    },
    {
     "data": {
      "text/plain": [
       "(array([ 8104.24000003, -4050.62000002, -4050.62000002]), 5001)"
      ]
     },
     "execution_count": 25,
     "metadata": {},
     "output_type": "execute_result"
    }
   ],
   "source": [
    "GPO(np.ones((3,3)), [2,1,1], 0.001, 5000, np.ones(3))"
   ]
  },
  {
   "cell_type": "code",
   "execution_count": null,
   "metadata": {},
   "outputs": [],
   "source": []
  },
  {
   "cell_type": "code",
   "execution_count": null,
   "metadata": {},
   "outputs": [],
   "source": []
  }
 ],
 "metadata": {
  "kernelspec": {
   "display_name": "Python 3",
   "language": "python",
   "name": "python3"
  },
  "language_info": {
   "codemirror_mode": {
    "name": "ipython",
    "version": 3
   },
   "file_extension": ".py",
   "mimetype": "text/x-python",
   "name": "python",
   "nbconvert_exporter": "python",
   "pygments_lexer": "ipython3",
   "version": "3.7.1"
  }
 },
 "nbformat": 4,
 "nbformat_minor": 2
}
